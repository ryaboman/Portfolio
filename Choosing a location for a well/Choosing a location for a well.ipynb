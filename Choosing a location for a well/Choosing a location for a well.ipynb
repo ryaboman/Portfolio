{
 "cells": [
  {
   "cell_type": "markdown",
   "metadata": {},
   "source": [
    "# Выбор локации для скважины"
   ]
  },
  {
   "cell_type": "markdown",
   "metadata": {},
   "source": [
    "Для добывающей компании «ГлавРосГосНефть» нужно решить, где бурить новую скважину.\n",
    "\n",
    "Нам предоставлены пробы нефти в трёх регионах: в каждом 10 000 месторождений, где измерили качество нефти и объём её запасов. Нужно построить модель машинного обучения, которая поможет определить регион, где добыча принесёт наибольшую прибыль. Также требуется проанализировать возможную прибыль и риски техникой *Bootstrap.*\n",
    "\n",
    "Шаги для выбора локации:\n",
    "\n",
    "- В избранном регионе ищут месторождения, для каждого определяют значения признаков;\n",
    "- Строят модель и оценивают объём запасов;\n",
    "- Выбирают месторождения с самым высокими оценками значений. Количество месторождений зависит от бюджета компании и стоимости разработки одной скважины;\n",
    "- Прибыль равна суммарной прибыли отобранных месторождений."
   ]
  },
  {
   "cell_type": "markdown",
   "metadata": {},
   "source": [
    "Описание данных:\n",
    "- id — уникальный идентификатор скважины;\n",
    "- f0, f1, f2 — три признака точек (неважно, что они означают, но сами признаки значимы);\n",
    "- product — объём запасов в скважине (тыс. баррелей)."
   ]
  },
  {
   "cell_type": "markdown",
   "metadata": {},
   "source": [
    "## Загрузка и подготовка данных"
   ]
  },
  {
   "cell_type": "code",
   "execution_count": 1,
   "metadata": {},
   "outputs": [],
   "source": [
    "import pandas as pd\n",
    "import numpy as np\n",
    "from sklearn.linear_model import LinearRegression\n",
    "from sklearn.preprocessing import StandardScaler\n",
    "from sklearn.metrics import mean_squared_error"
   ]
  },
  {
   "cell_type": "code",
   "execution_count": 2,
   "metadata": {},
   "outputs": [],
   "source": [
    "filepath_list = ['datasets/geo_data_0.csv', 'datasets/geo_data_1.csv', 'datasets/geo_data_2.csv']"
   ]
  },
  {
   "cell_type": "code",
   "execution_count": 3,
   "metadata": {},
   "outputs": [],
   "source": [
    "def prepering_data(filepath):\n",
    "    #Прочитаем данные из файла\n",
    "    data = pd.read_csv(filepath)\n",
    "    \n",
    "    print('Первые несколько строк данных:')\n",
    "    display(data.head())\n",
    "    \n",
    "    print('Есть ли неопределенные данные:')\n",
    "    display(pd.DataFrame(round(data.isna().mean()*100,1)).style.background_gradient('coolwarm'))\n",
    "    \n",
    "    print('Есть ли дубликаты в данных:')\n",
    "    display(data.duplicated().sum())\n",
    "    \n",
    "    #Столбец id не влияет на целевой признак. Поэтому исключим его из признаков:\n",
    "    data = data.drop(['id'], axis=1)\n",
    "    \n",
    "    print(\"\\033[4m\")\n",
    "    print('Матрица корреляции данных')\n",
    "    print(\"\\033[0m\")    \n",
    "    display(data.corr())\n",
    "    \n",
    "    \n",
    "    return data"
   ]
  },
  {
   "cell_type": "code",
   "execution_count": 4,
   "metadata": {
    "scrolled": false
   },
   "outputs": [
    {
     "name": "stdout",
     "output_type": "stream",
     "text": [
      "\u001b[91m\u001b[1m\n",
      "Регион 0:\n",
      "\u001b[90m\u001b[0m\n",
      "Первые несколько строк данных:\n"
     ]
    },
    {
     "data": {
      "text/html": [
       "<div>\n",
       "<style scoped>\n",
       "    .dataframe tbody tr th:only-of-type {\n",
       "        vertical-align: middle;\n",
       "    }\n",
       "\n",
       "    .dataframe tbody tr th {\n",
       "        vertical-align: top;\n",
       "    }\n",
       "\n",
       "    .dataframe thead th {\n",
       "        text-align: right;\n",
       "    }\n",
       "</style>\n",
       "<table border=\"1\" class=\"dataframe\">\n",
       "  <thead>\n",
       "    <tr style=\"text-align: right;\">\n",
       "      <th></th>\n",
       "      <th>id</th>\n",
       "      <th>f0</th>\n",
       "      <th>f1</th>\n",
       "      <th>f2</th>\n",
       "      <th>product</th>\n",
       "    </tr>\n",
       "  </thead>\n",
       "  <tbody>\n",
       "    <tr>\n",
       "      <th>0</th>\n",
       "      <td>txEyH</td>\n",
       "      <td>0.705745</td>\n",
       "      <td>-0.497823</td>\n",
       "      <td>1.221170</td>\n",
       "      <td>105.280062</td>\n",
       "    </tr>\n",
       "    <tr>\n",
       "      <th>1</th>\n",
       "      <td>2acmU</td>\n",
       "      <td>1.334711</td>\n",
       "      <td>-0.340164</td>\n",
       "      <td>4.365080</td>\n",
       "      <td>73.037750</td>\n",
       "    </tr>\n",
       "    <tr>\n",
       "      <th>2</th>\n",
       "      <td>409Wp</td>\n",
       "      <td>1.022732</td>\n",
       "      <td>0.151990</td>\n",
       "      <td>1.419926</td>\n",
       "      <td>85.265647</td>\n",
       "    </tr>\n",
       "    <tr>\n",
       "      <th>3</th>\n",
       "      <td>iJLyR</td>\n",
       "      <td>-0.032172</td>\n",
       "      <td>0.139033</td>\n",
       "      <td>2.978566</td>\n",
       "      <td>168.620776</td>\n",
       "    </tr>\n",
       "    <tr>\n",
       "      <th>4</th>\n",
       "      <td>Xdl7t</td>\n",
       "      <td>1.988431</td>\n",
       "      <td>0.155413</td>\n",
       "      <td>4.751769</td>\n",
       "      <td>154.036647</td>\n",
       "    </tr>\n",
       "  </tbody>\n",
       "</table>\n",
       "</div>"
      ],
      "text/plain": [
       "      id        f0        f1        f2     product\n",
       "0  txEyH  0.705745 -0.497823  1.221170  105.280062\n",
       "1  2acmU  1.334711 -0.340164  4.365080   73.037750\n",
       "2  409Wp  1.022732  0.151990  1.419926   85.265647\n",
       "3  iJLyR -0.032172  0.139033  2.978566  168.620776\n",
       "4  Xdl7t  1.988431  0.155413  4.751769  154.036647"
      ]
     },
     "metadata": {},
     "output_type": "display_data"
    },
    {
     "name": "stdout",
     "output_type": "stream",
     "text": [
      "Есть ли неопределенные данные:\n"
     ]
    },
    {
     "data": {
      "text/html": [
       "<style type=\"text/css\">\n",
       "#T_3cc81_row0_col0, #T_3cc81_row1_col0, #T_3cc81_row2_col0, #T_3cc81_row3_col0, #T_3cc81_row4_col0 {\n",
       "  background-color: #3b4cc0;\n",
       "  color: #f1f1f1;\n",
       "}\n",
       "</style>\n",
       "<table id=\"T_3cc81\">\n",
       "  <thead>\n",
       "    <tr>\n",
       "      <th class=\"blank level0\" >&nbsp;</th>\n",
       "      <th id=\"T_3cc81_level0_col0\" class=\"col_heading level0 col0\" >0</th>\n",
       "    </tr>\n",
       "  </thead>\n",
       "  <tbody>\n",
       "    <tr>\n",
       "      <th id=\"T_3cc81_level0_row0\" class=\"row_heading level0 row0\" >id</th>\n",
       "      <td id=\"T_3cc81_row0_col0\" class=\"data row0 col0\" >0.000000</td>\n",
       "    </tr>\n",
       "    <tr>\n",
       "      <th id=\"T_3cc81_level0_row1\" class=\"row_heading level0 row1\" >f0</th>\n",
       "      <td id=\"T_3cc81_row1_col0\" class=\"data row1 col0\" >0.000000</td>\n",
       "    </tr>\n",
       "    <tr>\n",
       "      <th id=\"T_3cc81_level0_row2\" class=\"row_heading level0 row2\" >f1</th>\n",
       "      <td id=\"T_3cc81_row2_col0\" class=\"data row2 col0\" >0.000000</td>\n",
       "    </tr>\n",
       "    <tr>\n",
       "      <th id=\"T_3cc81_level0_row3\" class=\"row_heading level0 row3\" >f2</th>\n",
       "      <td id=\"T_3cc81_row3_col0\" class=\"data row3 col0\" >0.000000</td>\n",
       "    </tr>\n",
       "    <tr>\n",
       "      <th id=\"T_3cc81_level0_row4\" class=\"row_heading level0 row4\" >product</th>\n",
       "      <td id=\"T_3cc81_row4_col0\" class=\"data row4 col0\" >0.000000</td>\n",
       "    </tr>\n",
       "  </tbody>\n",
       "</table>\n"
      ],
      "text/plain": [
       "<pandas.io.formats.style.Styler at 0x1fb831a0fa0>"
      ]
     },
     "metadata": {},
     "output_type": "display_data"
    },
    {
     "name": "stdout",
     "output_type": "stream",
     "text": [
      "Есть ли дубликаты в данных:\n"
     ]
    },
    {
     "data": {
      "text/plain": [
       "0"
      ]
     },
     "metadata": {},
     "output_type": "display_data"
    },
    {
     "name": "stdout",
     "output_type": "stream",
     "text": [
      "\u001b[4m\n",
      "Матрица корреляции данных\n",
      "\u001b[0m\n"
     ]
    },
    {
     "data": {
      "text/html": [
       "<div>\n",
       "<style scoped>\n",
       "    .dataframe tbody tr th:only-of-type {\n",
       "        vertical-align: middle;\n",
       "    }\n",
       "\n",
       "    .dataframe tbody tr th {\n",
       "        vertical-align: top;\n",
       "    }\n",
       "\n",
       "    .dataframe thead th {\n",
       "        text-align: right;\n",
       "    }\n",
       "</style>\n",
       "<table border=\"1\" class=\"dataframe\">\n",
       "  <thead>\n",
       "    <tr style=\"text-align: right;\">\n",
       "      <th></th>\n",
       "      <th>f0</th>\n",
       "      <th>f1</th>\n",
       "      <th>f2</th>\n",
       "      <th>product</th>\n",
       "    </tr>\n",
       "  </thead>\n",
       "  <tbody>\n",
       "    <tr>\n",
       "      <th>f0</th>\n",
       "      <td>1.000000</td>\n",
       "      <td>-0.440723</td>\n",
       "      <td>-0.003153</td>\n",
       "      <td>0.143536</td>\n",
       "    </tr>\n",
       "    <tr>\n",
       "      <th>f1</th>\n",
       "      <td>-0.440723</td>\n",
       "      <td>1.000000</td>\n",
       "      <td>0.001724</td>\n",
       "      <td>-0.192356</td>\n",
       "    </tr>\n",
       "    <tr>\n",
       "      <th>f2</th>\n",
       "      <td>-0.003153</td>\n",
       "      <td>0.001724</td>\n",
       "      <td>1.000000</td>\n",
       "      <td>0.483663</td>\n",
       "    </tr>\n",
       "    <tr>\n",
       "      <th>product</th>\n",
       "      <td>0.143536</td>\n",
       "      <td>-0.192356</td>\n",
       "      <td>0.483663</td>\n",
       "      <td>1.000000</td>\n",
       "    </tr>\n",
       "  </tbody>\n",
       "</table>\n",
       "</div>"
      ],
      "text/plain": [
       "               f0        f1        f2   product\n",
       "f0       1.000000 -0.440723 -0.003153  0.143536\n",
       "f1      -0.440723  1.000000  0.001724 -0.192356\n",
       "f2      -0.003153  0.001724  1.000000  0.483663\n",
       "product  0.143536 -0.192356  0.483663  1.000000"
      ]
     },
     "metadata": {},
     "output_type": "display_data"
    },
    {
     "name": "stdout",
     "output_type": "stream",
     "text": [
      "\u001b[91m\u001b[1m\n",
      "Регион 1:\n",
      "\u001b[90m\u001b[0m\n",
      "Первые несколько строк данных:\n"
     ]
    },
    {
     "data": {
      "text/html": [
       "<div>\n",
       "<style scoped>\n",
       "    .dataframe tbody tr th:only-of-type {\n",
       "        vertical-align: middle;\n",
       "    }\n",
       "\n",
       "    .dataframe tbody tr th {\n",
       "        vertical-align: top;\n",
       "    }\n",
       "\n",
       "    .dataframe thead th {\n",
       "        text-align: right;\n",
       "    }\n",
       "</style>\n",
       "<table border=\"1\" class=\"dataframe\">\n",
       "  <thead>\n",
       "    <tr style=\"text-align: right;\">\n",
       "      <th></th>\n",
       "      <th>id</th>\n",
       "      <th>f0</th>\n",
       "      <th>f1</th>\n",
       "      <th>f2</th>\n",
       "      <th>product</th>\n",
       "    </tr>\n",
       "  </thead>\n",
       "  <tbody>\n",
       "    <tr>\n",
       "      <th>0</th>\n",
       "      <td>kBEdx</td>\n",
       "      <td>-15.001348</td>\n",
       "      <td>-8.276000</td>\n",
       "      <td>-0.005876</td>\n",
       "      <td>3.179103</td>\n",
       "    </tr>\n",
       "    <tr>\n",
       "      <th>1</th>\n",
       "      <td>62mP7</td>\n",
       "      <td>14.272088</td>\n",
       "      <td>-3.475083</td>\n",
       "      <td>0.999183</td>\n",
       "      <td>26.953261</td>\n",
       "    </tr>\n",
       "    <tr>\n",
       "      <th>2</th>\n",
       "      <td>vyE1P</td>\n",
       "      <td>6.263187</td>\n",
       "      <td>-5.948386</td>\n",
       "      <td>5.001160</td>\n",
       "      <td>134.766305</td>\n",
       "    </tr>\n",
       "    <tr>\n",
       "      <th>3</th>\n",
       "      <td>KcrkZ</td>\n",
       "      <td>-13.081196</td>\n",
       "      <td>-11.506057</td>\n",
       "      <td>4.999415</td>\n",
       "      <td>137.945408</td>\n",
       "    </tr>\n",
       "    <tr>\n",
       "      <th>4</th>\n",
       "      <td>AHL4O</td>\n",
       "      <td>12.702195</td>\n",
       "      <td>-8.147433</td>\n",
       "      <td>5.004363</td>\n",
       "      <td>134.766305</td>\n",
       "    </tr>\n",
       "  </tbody>\n",
       "</table>\n",
       "</div>"
      ],
      "text/plain": [
       "      id         f0         f1        f2     product\n",
       "0  kBEdx -15.001348  -8.276000 -0.005876    3.179103\n",
       "1  62mP7  14.272088  -3.475083  0.999183   26.953261\n",
       "2  vyE1P   6.263187  -5.948386  5.001160  134.766305\n",
       "3  KcrkZ -13.081196 -11.506057  4.999415  137.945408\n",
       "4  AHL4O  12.702195  -8.147433  5.004363  134.766305"
      ]
     },
     "metadata": {},
     "output_type": "display_data"
    },
    {
     "name": "stdout",
     "output_type": "stream",
     "text": [
      "Есть ли неопределенные данные:\n"
     ]
    },
    {
     "data": {
      "text/html": [
       "<style type=\"text/css\">\n",
       "#T_50b47_row0_col0, #T_50b47_row1_col0, #T_50b47_row2_col0, #T_50b47_row3_col0, #T_50b47_row4_col0 {\n",
       "  background-color: #3b4cc0;\n",
       "  color: #f1f1f1;\n",
       "}\n",
       "</style>\n",
       "<table id=\"T_50b47\">\n",
       "  <thead>\n",
       "    <tr>\n",
       "      <th class=\"blank level0\" >&nbsp;</th>\n",
       "      <th id=\"T_50b47_level0_col0\" class=\"col_heading level0 col0\" >0</th>\n",
       "    </tr>\n",
       "  </thead>\n",
       "  <tbody>\n",
       "    <tr>\n",
       "      <th id=\"T_50b47_level0_row0\" class=\"row_heading level0 row0\" >id</th>\n",
       "      <td id=\"T_50b47_row0_col0\" class=\"data row0 col0\" >0.000000</td>\n",
       "    </tr>\n",
       "    <tr>\n",
       "      <th id=\"T_50b47_level0_row1\" class=\"row_heading level0 row1\" >f0</th>\n",
       "      <td id=\"T_50b47_row1_col0\" class=\"data row1 col0\" >0.000000</td>\n",
       "    </tr>\n",
       "    <tr>\n",
       "      <th id=\"T_50b47_level0_row2\" class=\"row_heading level0 row2\" >f1</th>\n",
       "      <td id=\"T_50b47_row2_col0\" class=\"data row2 col0\" >0.000000</td>\n",
       "    </tr>\n",
       "    <tr>\n",
       "      <th id=\"T_50b47_level0_row3\" class=\"row_heading level0 row3\" >f2</th>\n",
       "      <td id=\"T_50b47_row3_col0\" class=\"data row3 col0\" >0.000000</td>\n",
       "    </tr>\n",
       "    <tr>\n",
       "      <th id=\"T_50b47_level0_row4\" class=\"row_heading level0 row4\" >product</th>\n",
       "      <td id=\"T_50b47_row4_col0\" class=\"data row4 col0\" >0.000000</td>\n",
       "    </tr>\n",
       "  </tbody>\n",
       "</table>\n"
      ],
      "text/plain": [
       "<pandas.io.formats.style.Styler at 0x1fb831a2560>"
      ]
     },
     "metadata": {},
     "output_type": "display_data"
    },
    {
     "name": "stdout",
     "output_type": "stream",
     "text": [
      "Есть ли дубликаты в данных:\n"
     ]
    },
    {
     "data": {
      "text/plain": [
       "0"
      ]
     },
     "metadata": {},
     "output_type": "display_data"
    },
    {
     "name": "stdout",
     "output_type": "stream",
     "text": [
      "\u001b[4m\n",
      "Матрица корреляции данных\n",
      "\u001b[0m\n"
     ]
    },
    {
     "data": {
      "text/html": [
       "<div>\n",
       "<style scoped>\n",
       "    .dataframe tbody tr th:only-of-type {\n",
       "        vertical-align: middle;\n",
       "    }\n",
       "\n",
       "    .dataframe tbody tr th {\n",
       "        vertical-align: top;\n",
       "    }\n",
       "\n",
       "    .dataframe thead th {\n",
       "        text-align: right;\n",
       "    }\n",
       "</style>\n",
       "<table border=\"1\" class=\"dataframe\">\n",
       "  <thead>\n",
       "    <tr style=\"text-align: right;\">\n",
       "      <th></th>\n",
       "      <th>f0</th>\n",
       "      <th>f1</th>\n",
       "      <th>f2</th>\n",
       "      <th>product</th>\n",
       "    </tr>\n",
       "  </thead>\n",
       "  <tbody>\n",
       "    <tr>\n",
       "      <th>f0</th>\n",
       "      <td>1.000000</td>\n",
       "      <td>0.182287</td>\n",
       "      <td>-0.001777</td>\n",
       "      <td>-0.030491</td>\n",
       "    </tr>\n",
       "    <tr>\n",
       "      <th>f1</th>\n",
       "      <td>0.182287</td>\n",
       "      <td>1.000000</td>\n",
       "      <td>-0.002595</td>\n",
       "      <td>-0.010155</td>\n",
       "    </tr>\n",
       "    <tr>\n",
       "      <th>f2</th>\n",
       "      <td>-0.001777</td>\n",
       "      <td>-0.002595</td>\n",
       "      <td>1.000000</td>\n",
       "      <td>0.999397</td>\n",
       "    </tr>\n",
       "    <tr>\n",
       "      <th>product</th>\n",
       "      <td>-0.030491</td>\n",
       "      <td>-0.010155</td>\n",
       "      <td>0.999397</td>\n",
       "      <td>1.000000</td>\n",
       "    </tr>\n",
       "  </tbody>\n",
       "</table>\n",
       "</div>"
      ],
      "text/plain": [
       "               f0        f1        f2   product\n",
       "f0       1.000000  0.182287 -0.001777 -0.030491\n",
       "f1       0.182287  1.000000 -0.002595 -0.010155\n",
       "f2      -0.001777 -0.002595  1.000000  0.999397\n",
       "product -0.030491 -0.010155  0.999397  1.000000"
      ]
     },
     "metadata": {},
     "output_type": "display_data"
    },
    {
     "name": "stdout",
     "output_type": "stream",
     "text": [
      "\u001b[91m\u001b[1m\n",
      "Регион 2:\n",
      "\u001b[90m\u001b[0m\n",
      "Первые несколько строк данных:\n"
     ]
    },
    {
     "data": {
      "text/html": [
       "<div>\n",
       "<style scoped>\n",
       "    .dataframe tbody tr th:only-of-type {\n",
       "        vertical-align: middle;\n",
       "    }\n",
       "\n",
       "    .dataframe tbody tr th {\n",
       "        vertical-align: top;\n",
       "    }\n",
       "\n",
       "    .dataframe thead th {\n",
       "        text-align: right;\n",
       "    }\n",
       "</style>\n",
       "<table border=\"1\" class=\"dataframe\">\n",
       "  <thead>\n",
       "    <tr style=\"text-align: right;\">\n",
       "      <th></th>\n",
       "      <th>id</th>\n",
       "      <th>f0</th>\n",
       "      <th>f1</th>\n",
       "      <th>f2</th>\n",
       "      <th>product</th>\n",
       "    </tr>\n",
       "  </thead>\n",
       "  <tbody>\n",
       "    <tr>\n",
       "      <th>0</th>\n",
       "      <td>fwXo0</td>\n",
       "      <td>-1.146987</td>\n",
       "      <td>0.963328</td>\n",
       "      <td>-0.828965</td>\n",
       "      <td>27.758673</td>\n",
       "    </tr>\n",
       "    <tr>\n",
       "      <th>1</th>\n",
       "      <td>WJtFt</td>\n",
       "      <td>0.262778</td>\n",
       "      <td>0.269839</td>\n",
       "      <td>-2.530187</td>\n",
       "      <td>56.069697</td>\n",
       "    </tr>\n",
       "    <tr>\n",
       "      <th>2</th>\n",
       "      <td>ovLUW</td>\n",
       "      <td>0.194587</td>\n",
       "      <td>0.289035</td>\n",
       "      <td>-5.586433</td>\n",
       "      <td>62.871910</td>\n",
       "    </tr>\n",
       "    <tr>\n",
       "      <th>3</th>\n",
       "      <td>q6cA6</td>\n",
       "      <td>2.236060</td>\n",
       "      <td>-0.553760</td>\n",
       "      <td>0.930038</td>\n",
       "      <td>114.572842</td>\n",
       "    </tr>\n",
       "    <tr>\n",
       "      <th>4</th>\n",
       "      <td>WPMUX</td>\n",
       "      <td>-0.515993</td>\n",
       "      <td>1.716266</td>\n",
       "      <td>5.899011</td>\n",
       "      <td>149.600746</td>\n",
       "    </tr>\n",
       "  </tbody>\n",
       "</table>\n",
       "</div>"
      ],
      "text/plain": [
       "      id        f0        f1        f2     product\n",
       "0  fwXo0 -1.146987  0.963328 -0.828965   27.758673\n",
       "1  WJtFt  0.262778  0.269839 -2.530187   56.069697\n",
       "2  ovLUW  0.194587  0.289035 -5.586433   62.871910\n",
       "3  q6cA6  2.236060 -0.553760  0.930038  114.572842\n",
       "4  WPMUX -0.515993  1.716266  5.899011  149.600746"
      ]
     },
     "metadata": {},
     "output_type": "display_data"
    },
    {
     "name": "stdout",
     "output_type": "stream",
     "text": [
      "Есть ли неопределенные данные:\n"
     ]
    },
    {
     "data": {
      "text/html": [
       "<style type=\"text/css\">\n",
       "#T_5a465_row0_col0, #T_5a465_row1_col0, #T_5a465_row2_col0, #T_5a465_row3_col0, #T_5a465_row4_col0 {\n",
       "  background-color: #3b4cc0;\n",
       "  color: #f1f1f1;\n",
       "}\n",
       "</style>\n",
       "<table id=\"T_5a465\">\n",
       "  <thead>\n",
       "    <tr>\n",
       "      <th class=\"blank level0\" >&nbsp;</th>\n",
       "      <th id=\"T_5a465_level0_col0\" class=\"col_heading level0 col0\" >0</th>\n",
       "    </tr>\n",
       "  </thead>\n",
       "  <tbody>\n",
       "    <tr>\n",
       "      <th id=\"T_5a465_level0_row0\" class=\"row_heading level0 row0\" >id</th>\n",
       "      <td id=\"T_5a465_row0_col0\" class=\"data row0 col0\" >0.000000</td>\n",
       "    </tr>\n",
       "    <tr>\n",
       "      <th id=\"T_5a465_level0_row1\" class=\"row_heading level0 row1\" >f0</th>\n",
       "      <td id=\"T_5a465_row1_col0\" class=\"data row1 col0\" >0.000000</td>\n",
       "    </tr>\n",
       "    <tr>\n",
       "      <th id=\"T_5a465_level0_row2\" class=\"row_heading level0 row2\" >f1</th>\n",
       "      <td id=\"T_5a465_row2_col0\" class=\"data row2 col0\" >0.000000</td>\n",
       "    </tr>\n",
       "    <tr>\n",
       "      <th id=\"T_5a465_level0_row3\" class=\"row_heading level0 row3\" >f2</th>\n",
       "      <td id=\"T_5a465_row3_col0\" class=\"data row3 col0\" >0.000000</td>\n",
       "    </tr>\n",
       "    <tr>\n",
       "      <th id=\"T_5a465_level0_row4\" class=\"row_heading level0 row4\" >product</th>\n",
       "      <td id=\"T_5a465_row4_col0\" class=\"data row4 col0\" >0.000000</td>\n",
       "    </tr>\n",
       "  </tbody>\n",
       "</table>\n"
      ],
      "text/plain": [
       "<pandas.io.formats.style.Styler at 0x1fb84a71cf0>"
      ]
     },
     "metadata": {},
     "output_type": "display_data"
    },
    {
     "name": "stdout",
     "output_type": "stream",
     "text": [
      "Есть ли дубликаты в данных:\n"
     ]
    },
    {
     "data": {
      "text/plain": [
       "0"
      ]
     },
     "metadata": {},
     "output_type": "display_data"
    },
    {
     "name": "stdout",
     "output_type": "stream",
     "text": [
      "\u001b[4m\n",
      "Матрица корреляции данных\n",
      "\u001b[0m\n"
     ]
    },
    {
     "data": {
      "text/html": [
       "<div>\n",
       "<style scoped>\n",
       "    .dataframe tbody tr th:only-of-type {\n",
       "        vertical-align: middle;\n",
       "    }\n",
       "\n",
       "    .dataframe tbody tr th {\n",
       "        vertical-align: top;\n",
       "    }\n",
       "\n",
       "    .dataframe thead th {\n",
       "        text-align: right;\n",
       "    }\n",
       "</style>\n",
       "<table border=\"1\" class=\"dataframe\">\n",
       "  <thead>\n",
       "    <tr style=\"text-align: right;\">\n",
       "      <th></th>\n",
       "      <th>f0</th>\n",
       "      <th>f1</th>\n",
       "      <th>f2</th>\n",
       "      <th>product</th>\n",
       "    </tr>\n",
       "  </thead>\n",
       "  <tbody>\n",
       "    <tr>\n",
       "      <th>f0</th>\n",
       "      <td>1.000000</td>\n",
       "      <td>0.000528</td>\n",
       "      <td>-0.000448</td>\n",
       "      <td>-0.001987</td>\n",
       "    </tr>\n",
       "    <tr>\n",
       "      <th>f1</th>\n",
       "      <td>0.000528</td>\n",
       "      <td>1.000000</td>\n",
       "      <td>0.000779</td>\n",
       "      <td>-0.001012</td>\n",
       "    </tr>\n",
       "    <tr>\n",
       "      <th>f2</th>\n",
       "      <td>-0.000448</td>\n",
       "      <td>0.000779</td>\n",
       "      <td>1.000000</td>\n",
       "      <td>0.445871</td>\n",
       "    </tr>\n",
       "    <tr>\n",
       "      <th>product</th>\n",
       "      <td>-0.001987</td>\n",
       "      <td>-0.001012</td>\n",
       "      <td>0.445871</td>\n",
       "      <td>1.000000</td>\n",
       "    </tr>\n",
       "  </tbody>\n",
       "</table>\n",
       "</div>"
      ],
      "text/plain": [
       "               f0        f1        f2   product\n",
       "f0       1.000000  0.000528 -0.000448 -0.001987\n",
       "f1       0.000528  1.000000  0.000779 -0.001012\n",
       "f2      -0.000448  0.000779  1.000000  0.445871\n",
       "product -0.001987 -0.001012  0.445871  1.000000"
      ]
     },
     "metadata": {},
     "output_type": "display_data"
    }
   ],
   "source": [
    "data = []\n",
    "index = 0\n",
    "for filepath in filepath_list:\n",
    "    print('\\033[91m\\033[1m')\n",
    "    print(f'Регион {index}:')\n",
    "    print('\\033[90m\\033[0m')\n",
    "    index += 1\n",
    "\n",
    "    data.append( prepering_data(filepath) )"
   ]
  },
  {
   "cell_type": "markdown",
   "metadata": {},
   "source": [
    "**Выводы.** \n",
    "\n",
    "*Региона 0:* \n",
    "- По первым строкам данных можно сделать вывод, что потребуется промасштабировать признаки перед обучением модели.\n",
    "- Данные не содержат пропусков и дубликатов.\n",
    "- Корреляционная матрица данных, показывает небольшую связь целевого признака *product* и признаков *f0*, *f1*, равную 14,4% и 19,2% соответственно. Связь признака *f2* с целевым признаком более значительная - 48%. Связь признаков *f0*, *f2* с целевым признаком прямопропорциональная, а признака *f1* обратнопропорциональная.\n",
    "\n",
    "*Региона 1:* \n",
    "- По первым строкам данных можно сделать вывод, что потребуется промасштабировать признаки перед обучением модели.\n",
    "- Данные не содержат пропусков и дубликатов.\n",
    "- Корреляционная матрица данных, показывает отсутствие связи целевого признака *product* и признаков *f0*, *f1*, корреляция равна 3% и 1% соответственно. Связь признака *f2* с целевым признаком более значительная - 99%. Связь признака *f2* прямопропорциональная.\n",
    "\n",
    "*Региона 2:* \n",
    "- По первым строкам данных можно сделать вывод, что потребуется промасштабировать признаки перед обучением модели.\n",
    "- Данные не содержат пропусков и дубликатов.\n",
    "- Корреляционная матрица данных, показывает отсутствие связи целевого признака *product* и признаков *f0*, *f1*, корреляция равна 0,2% и 0,1% соответственно. Связь признака *f2* с целевым признаком более значительная - 44,6%. Связь признака *f2* обратнопропорциональная."
   ]
  },
  {
   "cell_type": "code",
   "execution_count": 5,
   "metadata": {},
   "outputs": [],
   "source": [
    "#Функция для разделения данных на тестовую и валидационную выборку\n",
    "def spliter(data, target_name):\n",
    "    train, valid = np.split(data.sample(frac=1, random_state=821), [int(.75*len(data))])\n",
    "    \n",
    "    #Отделим признаки и целевой признак в выборках. Сбросим индексы выборок\n",
    "    features_train = train.drop(target_name, axis=1).reset_index(drop=True)\n",
    "    target_train = train[target_name].reset_index(drop=True)\n",
    "\n",
    "    features_valid = valid.drop(target_name, axis=1).reset_index(drop=True)\n",
    "    target_valid = valid[target_name].reset_index(drop=True)\n",
    "    \n",
    "    #Убедимся, что разбиение было выполнено верно, оценим размеры выборок.\n",
    "    print('Размер тренировочной выборки:', features_train.shape[0])\n",
    "    print('Размер валидационной выборки:', features_valid.shape[0])\n",
    "    \n",
    "    return features_train, target_train, features_valid, target_valid"
   ]
  },
  {
   "cell_type": "code",
   "execution_count": 6,
   "metadata": {},
   "outputs": [
    {
     "name": "stdout",
     "output_type": "stream",
     "text": [
      "\u001b[91m\u001b[1m\n",
      "Регион 0:\n",
      "\u001b[90m\u001b[0m\n",
      "Размер тренировочной выборки: 75000\n",
      "Размер валидационной выборки: 25000\n",
      "\u001b[91m\u001b[1m\n",
      "Регион 1:\n",
      "\u001b[90m\u001b[0m\n",
      "Размер тренировочной выборки: 75000\n",
      "Размер валидационной выборки: 25000\n",
      "\u001b[91m\u001b[1m\n",
      "Регион 2:\n",
      "\u001b[90m\u001b[0m\n",
      "Размер тренировочной выборки: 75000\n",
      "Размер валидационной выборки: 25000\n"
     ]
    }
   ],
   "source": [
    "features_train_list = []\n",
    "target_train_list = []\n",
    "features_valid_list = []\n",
    "target_valid_list = []\n",
    "index = 0\n",
    "for region_data in data:\n",
    "    print('\\033[91m\\033[1m')\n",
    "    print(f'Регион {index}:')\n",
    "    print('\\033[90m\\033[0m')\n",
    "    index += 1\n",
    "    features_train, target_train, features_valid, target_valid = \\\n",
    "        spliter(data=region_data, target_name='product')\n",
    "    \n",
    "    #Масштабируем данные\n",
    "    numeric = ['f0', 'f1', 'f2']\n",
    "    scaler = StandardScaler()\n",
    "    scaler.fit(features_train[numeric])\n",
    "    features_train[numeric] = scaler.transform(features_train[numeric])\n",
    "    features_valid[numeric] = scaler.transform(features_valid[numeric])\n",
    "    \n",
    "    #Сохраним данные в список\n",
    "    features_train_list.append(features_train)\n",
    "    target_train_list.append(target_train)\n",
    "    features_valid_list.append(features_valid)\n",
    "    target_valid_list.append(target_valid)"
   ]
  },
  {
   "cell_type": "markdown",
   "metadata": {},
   "source": [
    "## Обучение и проверка модели"
   ]
  },
  {
   "cell_type": "code",
   "execution_count": 7,
   "metadata": {},
   "outputs": [
    {
     "name": "stdout",
     "output_type": "stream",
     "text": [
      "\u001b[91m\u001b[1m\n",
      "Регион 0:\n",
      "\u001b[90m\u001b[0m\n",
      "RMSE модели линейной регрессии на валидационной выборке: 37.729963027045024\n",
      "Средний запас предсказанного сырья 92.75021438728606\n",
      "RMSE константной модели: 44.307568280856835\n",
      "\u001b[91m\u001b[1m\n",
      "Регион 1:\n",
      "\u001b[90m\u001b[0m\n",
      "RMSE модели линейной регрессии на валидационной выборке: 0.8922537395970659\n",
      "Средний запас предсказанного сырья 68.86820255182714\n",
      "RMSE константной модели: 46.09712179750057\n",
      "\u001b[91m\u001b[1m\n",
      "Регион 2:\n",
      "\u001b[90m\u001b[0m\n",
      "RMSE модели линейной регрессии на валидационной выборке: 40.21264523908406\n",
      "Средний запас предсказанного сырья 94.97609258225137\n",
      "RMSE константной модели: 44.8085263125068\n"
     ]
    }
   ],
   "source": [
    "model = LinearRegression()\n",
    "\n",
    "predictions_valid_list = []\n",
    "index = 0\n",
    "for features_train, target_train, features_valid, target_valid in \\\n",
    "        zip(features_train_list, target_train_list, features_valid_list, target_valid_list):\n",
    "    print('\\033[91m\\033[1m')\n",
    "    print(f'Регион {index}:')\n",
    "    print('\\033[90m\\033[0m')\n",
    "    index += 1\n",
    "    \n",
    "    model.fit(features_train, target_train)\n",
    "    \n",
    "    predictions_valid = model.predict(features_valid)\n",
    "    predictions_valid_list.append( pd.Series(predictions_valid) )\n",
    "    result = mean_squared_error(target_valid, predictions_valid) ** 0.5\n",
    "    print(\"RMSE модели линейной регрессии на валидационной выборке:\", result)\n",
    "    \n",
    "    print('Средний запас предсказанного сырья', predictions_valid.mean())\n",
    "    \n",
    "    \n",
    "    #Проверка адекватности модели\n",
    "    predicted_valid = pd.Series(target_train.mean(), index=target_valid.index)\n",
    "    result = mean_squared_error(target_valid, predicted_valid) ** 0.5\n",
    "    print(\"RMSE константной модели:\", result)"
   ]
  },
  {
   "cell_type": "markdown",
   "metadata": {},
   "source": [
    "**Вывод.** Минимальное значение RMSE на валидационной выборки у модели обученной на данных региона 1"
   ]
  },
  {
   "cell_type": "markdown",
   "metadata": {},
   "source": [
    "## Подготовка к расчёту прибыли"
   ]
  },
  {
   "cell_type": "code",
   "execution_count": 8,
   "metadata": {},
   "outputs": [],
   "source": [
    "#Стоимость барреля, руб.\n",
    "COST_BARREL = 450\n",
    "#Бюджет на разработку скважин, руб.\n",
    "COSTS_BUDGET = 10e9\n",
    "#стоимость 1000 баррелей, руб\n",
    "COST_1000_BARREL = COST_BARREL * 1000"
   ]
  },
  {
   "cell_type": "markdown",
   "metadata": {},
   "source": [
    "**Рассчитаем достаточный объём сырья для безубыточной разработки новой скважины**"
   ]
  },
  {
   "cell_type": "code",
   "execution_count": 9,
   "metadata": {},
   "outputs": [
    {
     "name": "stdout",
     "output_type": "stream",
     "text": [
      "Минимальный объём сырья для безубыточной разработки новой скважины: 111.11111111111111\n"
     ]
    }
   ],
   "source": [
    "#Количество разрабатываемых скважин равно 200.\n",
    "#Поэтому бюджет на разработку одной скважины равен:\n",
    "ONE_WELL_BUDGET = COSTS_BUDGET / 200\n",
    "\n",
    "#Поделив бюджет разработки одной скважины на стоимость барреля\n",
    "#получим минимальный объём сырья для безубыточной разработки новой скважины\n",
    "VOLUME = ONE_WELL_BUDGET / COST_BARREL\n",
    "\n",
    "#Т.к. столбец product в данных представлен в тысячах баррелях, то для удобности сравнения\n",
    "#разделим объем на 1000\n",
    "VOLUME_1000_BARREL = VOLUME / 1000\n",
    "\n",
    "print('Минимальный объём сырья для безубыточной разработки новой скважины:', VOLUME_1000_BARREL)"
   ]
  },
  {
   "cell_type": "markdown",
   "metadata": {},
   "source": [
    "**Вывод.** Минимальный объём сырья для безубыточной разработки новой скважины превышает среднее значение предсказанного сырья в скажине каждого из регионов."
   ]
  },
  {
   "cell_type": "markdown",
   "metadata": {},
   "source": [
    "## Расчёт прибыли и рисков "
   ]
  },
  {
   "cell_type": "code",
   "execution_count": 10,
   "metadata": {},
   "outputs": [],
   "source": [
    "#Функция расчета прибыли\n",
    "def income(target, probabilities, count):\n",
    "    probs_sorted = probabilities.sort_values(ascending=False)\n",
    "    selected = target[probs_sorted.index][:count]\n",
    "    return ( selected.sum() * COST_1000_BARREL ) - COSTS_BUDGET"
   ]
  },
  {
   "cell_type": "code",
   "execution_count": 11,
   "metadata": {},
   "outputs": [],
   "source": [
    "#Важно данную запись делать в отдельной ячейки. Иначе выборки не получаются случайные, при повторном запуски ячейки\n",
    "STATE = np.random.RandomState(12345)"
   ]
  },
  {
   "cell_type": "code",
   "execution_count": 12,
   "metadata": {},
   "outputs": [],
   "source": [
    "def bootstrap_for_income(target, predictions):\n",
    "    values = []   \n",
    "    for i in range(1000):\n",
    "        target_subsample = target.sample(500, replace=True, random_state=STATE)\n",
    "        probs_subsample = predictions[target_subsample.index]\n",
    "        revenue_score = income(target=target_subsample, probabilities=probs_subsample, count=200)\n",
    "        values.append(revenue_score)\n",
    "    \n",
    "    values = pd.Series(values)\n",
    "    lower = values.quantile(q=0.025)\n",
    "    high = values.quantile(q=0.975)\n",
    "    risk_of_loss = values[values < 0].count() / values.count() * 100\n",
    "    \n",
    "    mean = values.mean()\n",
    "    print(\"Средняя прибыль:\", mean)\n",
    "    print(\"2,5%-квантиль:\", lower)\n",
    "    print(\"97,5%-квантиль:\", high)\n",
    "    print(f'Риск убытков: {risk_of_loss}%')"
   ]
  },
  {
   "cell_type": "code",
   "execution_count": 13,
   "metadata": {},
   "outputs": [
    {
     "name": "stdout",
     "output_type": "stream",
     "text": [
      "\u001b[91m\u001b[1m\n",
      "Регион 0:\n",
      "\u001b[90m\u001b[0m\n",
      "Средняя прибыль: 500294566.7104109\n",
      "2,5%-квантиль: -29186278.874776587\n",
      "97,5%-квантиль: 1019433824.7981983\n",
      "Риск убытков: 3.5999999999999996%\n",
      "\u001b[91m\u001b[1m\n",
      "Регион 1:\n",
      "\u001b[90m\u001b[0m\n",
      "Средняя прибыль: 531341051.6062054\n",
      "2,5%-квантиль: 108824178.20255733\n",
      "97,5%-квантиль: 939386325.2297403\n",
      "Риск убытков: 0.5%\n",
      "\u001b[91m\u001b[1m\n",
      "Регион 2:\n",
      "\u001b[90m\u001b[0m\n",
      "Средняя прибыль: 383677490.9059474\n",
      "2,5%-квантиль: -181337923.78597215\n",
      "97,5%-квантиль: 949148325.1957636\n",
      "Риск убытков: 7.8%\n"
     ]
    }
   ],
   "source": [
    "index = 0\n",
    "for target_valid, predictions_valid in zip(target_valid_list, predictions_valid_list):  \n",
    "    print('\\033[91m\\033[1m')\n",
    "    print(f'Регион {index}:')\n",
    "    print('\\033[90m\\033[0m')\n",
    "    index += 1\n",
    "    bootstrap_for_income(target_valid, predictions_valid)"
   ]
  },
  {
   "cell_type": "markdown",
   "metadata": {},
   "source": [
    "**Вывод.** *Регион 1* имеет большую среднюю прибыль, чем  *Регион 0* и *Регион 2*. А также единственным регионом, в котором вероятность убытков меньше 2.5% (около 0,5%). Поэтому для разработки скважин, предлагается *Регион 1*. "
   ]
  },
  {
   "cell_type": "code",
   "execution_count": null,
   "metadata": {},
   "outputs": [],
   "source": []
  }
 ],
 "metadata": {
  "ExecuteTimeLog": [
   {
    "duration": 50,
    "start_time": "2023-04-08T10:34:50.396Z"
   },
   {
    "duration": 378,
    "start_time": "2023-04-08T10:34:53.176Z"
   },
   {
    "duration": 377,
    "start_time": "2023-04-08T10:34:54.817Z"
   },
   {
    "duration": 15,
    "start_time": "2023-04-08T10:35:06.637Z"
   },
   {
    "duration": 28,
    "start_time": "2023-04-08T10:35:17.997Z"
   },
   {
    "duration": 122,
    "start_time": "2023-04-08T10:35:20.337Z"
   },
   {
    "duration": 9,
    "start_time": "2023-04-08T10:35:21.185Z"
   },
   {
    "duration": 1211,
    "start_time": "2023-04-08T10:35:39.498Z"
   },
   {
    "duration": 9,
    "start_time": "2023-04-08T10:35:53.471Z"
   },
   {
    "duration": 9,
    "start_time": "2023-04-08T10:35:55.956Z"
   },
   {
    "duration": 494,
    "start_time": "2023-04-08T10:40:35.228Z"
   },
   {
    "duration": 16,
    "start_time": "2023-04-08T10:40:37.616Z"
   },
   {
    "duration": 16,
    "start_time": "2023-04-08T10:40:38.957Z"
   },
   {
    "duration": 54,
    "start_time": "2023-04-08T10:41:25.090Z"
   },
   {
    "duration": 46,
    "start_time": "2023-04-08T10:41:35.618Z"
   },
   {
    "duration": 46,
    "start_time": "2023-04-08T10:41:45.941Z"
   },
   {
    "duration": 730,
    "start_time": "2023-04-08T11:55:42.730Z"
   },
   {
    "duration": 1055,
    "start_time": "2023-04-09T16:36:58.460Z"
   },
   {
    "duration": 1398,
    "start_time": "2023-04-09T16:36:59.695Z"
   },
   {
    "duration": 21,
    "start_time": "2023-04-09T16:37:01.096Z"
   },
   {
    "duration": 13,
    "start_time": "2023-04-09T16:37:01.828Z"
   },
   {
    "duration": 9,
    "start_time": "2023-04-09T16:37:03.075Z"
   },
   {
    "duration": 435,
    "start_time": "2023-04-09T16:37:03.972Z"
   },
   {
    "duration": 51,
    "start_time": "2023-04-09T16:37:05.340Z"
   },
   {
    "duration": 16,
    "start_time": "2023-04-09T16:37:06.603Z"
   },
   {
    "duration": 40,
    "start_time": "2023-04-09T16:37:07.356Z"
   },
   {
    "duration": 19,
    "start_time": "2023-04-09T16:37:08.061Z"
   },
   {
    "duration": 47,
    "start_time": "2023-04-09T16:37:08.755Z"
   },
   {
    "duration": 215,
    "start_time": "2023-04-09T16:37:10.403Z"
   },
   {
    "duration": 99,
    "start_time": "2023-04-09T16:37:22.484Z"
   },
   {
    "duration": 25,
    "start_time": "2023-04-09T16:38:05.173Z"
   },
   {
    "duration": 26,
    "start_time": "2023-04-09T16:38:09.892Z"
   },
   {
    "duration": 9,
    "start_time": "2023-04-09T16:39:37.364Z"
   },
   {
    "duration": 9,
    "start_time": "2023-04-09T16:40:13.564Z"
   },
   {
    "duration": 4,
    "start_time": "2023-04-09T16:40:29.410Z"
   },
   {
    "duration": 9,
    "start_time": "2023-04-09T16:42:12.688Z"
   },
   {
    "duration": 3,
    "start_time": "2023-04-09T16:42:25.561Z"
   },
   {
    "duration": 50,
    "start_time": "2023-04-09T16:42:26.809Z"
   },
   {
    "duration": 9,
    "start_time": "2023-04-09T16:43:17.201Z"
   },
   {
    "duration": 3,
    "start_time": "2023-04-09T17:07:28.725Z"
   },
   {
    "duration": 47,
    "start_time": "2023-04-09T17:07:29.599Z"
   },
   {
    "duration": 5,
    "start_time": "2023-04-09T17:10:26.708Z"
   },
   {
    "duration": 14,
    "start_time": "2023-04-09T17:10:51.325Z"
   },
   {
    "duration": 15,
    "start_time": "2023-04-09T17:10:56.707Z"
   },
   {
    "duration": 9,
    "start_time": "2023-04-09T17:10:57.884Z"
   },
   {
    "duration": 4,
    "start_time": "2023-04-09T17:10:58.859Z"
   },
   {
    "duration": 3,
    "start_time": "2023-04-09T17:11:01.419Z"
   },
   {
    "duration": 14,
    "start_time": "2023-04-09T17:11:01.949Z"
   },
   {
    "duration": 2,
    "start_time": "2023-04-09T17:11:03.100Z"
   },
   {
    "duration": 16,
    "start_time": "2023-04-09T17:11:03.676Z"
   },
   {
    "duration": 110,
    "start_time": "2023-04-09T17:11:34.529Z"
   },
   {
    "duration": 4,
    "start_time": "2023-04-09T17:12:35.221Z"
   },
   {
    "duration": 20,
    "start_time": "2023-04-09T17:12:44.412Z"
   },
   {
    "duration": 9,
    "start_time": "2023-04-09T17:14:31.592Z"
   },
   {
    "duration": 4,
    "start_time": "2023-04-09T17:14:38.474Z"
   },
   {
    "duration": 7,
    "start_time": "2023-04-09T17:15:06.243Z"
   },
   {
    "duration": 10,
    "start_time": "2023-04-09T17:15:14.852Z"
   },
   {
    "duration": 5,
    "start_time": "2023-04-09T17:15:17.189Z"
   },
   {
    "duration": 6,
    "start_time": "2023-04-09T17:16:03.662Z"
   },
   {
    "duration": 1272,
    "start_time": "2023-04-10T03:47:36.878Z"
   },
   {
    "duration": 2269,
    "start_time": "2023-04-10T03:47:38.152Z"
   },
   {
    "duration": 30,
    "start_time": "2023-04-10T03:47:40.423Z"
   },
   {
    "duration": 14,
    "start_time": "2023-04-10T03:47:41.169Z"
   },
   {
    "duration": 17,
    "start_time": "2023-04-10T03:47:42.036Z"
   },
   {
    "duration": 584,
    "start_time": "2023-04-10T03:47:42.685Z"
   },
   {
    "duration": 71,
    "start_time": "2023-04-10T03:47:43.820Z"
   },
   {
    "duration": 18,
    "start_time": "2023-04-10T03:47:44.811Z"
   },
   {
    "duration": 54,
    "start_time": "2023-04-10T03:47:45.478Z"
   },
   {
    "duration": 29,
    "start_time": "2023-04-10T03:47:46.124Z"
   },
   {
    "duration": 68,
    "start_time": "2023-04-10T03:47:46.760Z"
   },
   {
    "duration": 6,
    "start_time": "2023-04-10T03:47:48.412Z"
   },
   {
    "duration": 19,
    "start_time": "2023-04-10T03:47:49.827Z"
   },
   {
    "duration": 10,
    "start_time": "2023-04-10T03:47:51.471Z"
   },
   {
    "duration": 4,
    "start_time": "2023-04-10T03:47:52.591Z"
   },
   {
    "duration": 3,
    "start_time": "2023-04-10T03:47:53.915Z"
   },
   {
    "duration": 24,
    "start_time": "2023-04-10T03:47:54.771Z"
   },
   {
    "duration": 4,
    "start_time": "2023-04-10T03:47:57.171Z"
   },
   {
    "duration": 18,
    "start_time": "2023-04-10T03:47:57.870Z"
   },
   {
    "duration": 11,
    "start_time": "2023-04-10T03:47:58.507Z"
   },
   {
    "duration": 7,
    "start_time": "2023-04-10T03:48:01.277Z"
   },
   {
    "duration": 118,
    "start_time": "2023-04-10T03:51:58.304Z"
   },
   {
    "duration": 3,
    "start_time": "2023-04-10T03:52:05.616Z"
   },
   {
    "duration": 11,
    "start_time": "2023-04-10T03:52:06.881Z"
   },
   {
    "duration": 11,
    "start_time": "2023-04-10T03:52:07.904Z"
   },
   {
    "duration": 30,
    "start_time": "2023-04-10T03:55:10.029Z"
   },
   {
    "duration": 9,
    "start_time": "2023-04-10T03:55:26.467Z"
   },
   {
    "duration": 431,
    "start_time": "2023-04-10T03:55:26.917Z"
   },
   {
    "duration": 12,
    "start_time": "2023-04-10T03:55:27.350Z"
   },
   {
    "duration": 11,
    "start_time": "2023-04-10T03:55:27.776Z"
   },
   {
    "duration": 12,
    "start_time": "2023-04-10T03:55:29.469Z"
   },
   {
    "duration": 17,
    "start_time": "2023-04-10T03:55:29.917Z"
   },
   {
    "duration": 64,
    "start_time": "2023-04-10T03:55:30.342Z"
   },
   {
    "duration": 15,
    "start_time": "2023-04-10T03:55:32.013Z"
   },
   {
    "duration": 45,
    "start_time": "2023-04-10T03:55:32.468Z"
   },
   {
    "duration": 20,
    "start_time": "2023-04-10T03:55:32.871Z"
   },
   {
    "duration": 55,
    "start_time": "2023-04-10T03:55:33.504Z"
   },
   {
    "duration": 12,
    "start_time": "2023-04-10T03:55:35.789Z"
   },
   {
    "duration": 52,
    "start_time": "2023-04-10T03:56:21.612Z"
   },
   {
    "duration": 8,
    "start_time": "2023-04-10T03:57:23.614Z"
   },
   {
    "duration": 10,
    "start_time": "2023-04-10T03:57:24.277Z"
   },
   {
    "duration": 7,
    "start_time": "2023-04-10T03:57:24.926Z"
   },
   {
    "duration": 4,
    "start_time": "2023-04-10T03:57:27.927Z"
   },
   {
    "duration": 4,
    "start_time": "2023-04-10T03:57:47.524Z"
   },
   {
    "duration": 15,
    "start_time": "2023-04-10T03:57:48.340Z"
   },
   {
    "duration": 3,
    "start_time": "2023-04-10T03:57:58.107Z"
   },
   {
    "duration": 18,
    "start_time": "2023-04-10T03:57:58.795Z"
   },
   {
    "duration": 7,
    "start_time": "2023-04-10T03:58:12.340Z"
   },
   {
    "duration": 17,
    "start_time": "2023-04-10T03:58:13.483Z"
   },
   {
    "duration": 34,
    "start_time": "2023-04-10T03:58:34.382Z"
   },
   {
    "duration": 17,
    "start_time": "2023-04-10T03:58:52.578Z"
   },
   {
    "duration": 3,
    "start_time": "2023-04-10T03:58:57.778Z"
   },
   {
    "duration": 12,
    "start_time": "2023-04-10T03:58:59.027Z"
   },
   {
    "duration": 11,
    "start_time": "2023-04-10T03:58:59.982Z"
   },
   {
    "duration": 7,
    "start_time": "2023-04-10T03:59:01.360Z"
   },
   {
    "duration": 12,
    "start_time": "2023-04-10T03:59:04.073Z"
   },
   {
    "duration": 25,
    "start_time": "2023-04-10T03:59:05.028Z"
   },
   {
    "duration": 5,
    "start_time": "2023-04-10T03:59:06.282Z"
   },
   {
    "duration": 9,
    "start_time": "2023-04-10T04:00:32.019Z"
   },
   {
    "duration": 9,
    "start_time": "2023-04-10T04:01:04.255Z"
   },
   {
    "duration": 1190,
    "start_time": "2023-04-10T04:07:11.701Z"
   },
   {
    "duration": 498,
    "start_time": "2023-04-10T04:07:12.893Z"
   },
   {
    "duration": 22,
    "start_time": "2023-04-10T04:07:13.393Z"
   },
   {
    "duration": 33,
    "start_time": "2023-04-10T04:07:13.417Z"
   },
   {
    "duration": 48,
    "start_time": "2023-04-10T04:07:13.455Z"
   },
   {
    "duration": 385,
    "start_time": "2023-04-10T04:07:13.506Z"
   },
   {
    "duration": 80,
    "start_time": "2023-04-10T04:07:13.893Z"
   },
   {
    "duration": 22,
    "start_time": "2023-04-10T04:07:13.977Z"
   },
   {
    "duration": 123,
    "start_time": "2023-04-10T04:07:14.002Z"
   },
   {
    "duration": 28,
    "start_time": "2023-04-10T04:07:14.128Z"
   },
   {
    "duration": 115,
    "start_time": "2023-04-10T04:07:14.158Z"
   },
   {
    "duration": 13,
    "start_time": "2023-04-10T04:07:14.275Z"
   },
   {
    "duration": 42,
    "start_time": "2023-04-10T04:07:14.290Z"
   },
   {
    "duration": 28,
    "start_time": "2023-04-10T04:07:14.335Z"
   },
   {
    "duration": 31,
    "start_time": "2023-04-10T04:07:14.368Z"
   },
   {
    "duration": 6,
    "start_time": "2023-04-10T04:07:14.401Z"
   },
   {
    "duration": 17,
    "start_time": "2023-04-10T04:07:14.409Z"
   },
   {
    "duration": 24,
    "start_time": "2023-04-10T04:07:14.427Z"
   },
   {
    "duration": 45,
    "start_time": "2023-04-10T04:07:14.459Z"
   },
   {
    "duration": 28,
    "start_time": "2023-04-10T04:07:14.508Z"
   },
   {
    "duration": 61,
    "start_time": "2023-04-10T04:07:14.538Z"
   },
   {
    "duration": 36,
    "start_time": "2023-04-10T04:07:14.601Z"
   },
   {
    "duration": 84,
    "start_time": "2023-04-10T04:07:14.639Z"
   },
   {
    "duration": 100,
    "start_time": "2023-04-10T04:07:14.725Z"
   },
   {
    "duration": 62,
    "start_time": "2023-04-10T04:07:14.827Z"
   },
   {
    "duration": 103,
    "start_time": "2023-04-10T04:07:14.891Z"
   },
   {
    "duration": 144,
    "start_time": "2023-04-10T04:07:14.996Z"
   },
   {
    "duration": 142,
    "start_time": "2023-04-10T04:07:15.144Z"
   },
   {
    "duration": 76,
    "start_time": "2023-04-10T04:07:15.290Z"
   },
   {
    "duration": 139,
    "start_time": "2023-04-10T04:07:15.368Z"
   },
   {
    "duration": 31,
    "start_time": "2023-04-10T04:07:15.509Z"
   },
   {
    "duration": 23,
    "start_time": "2023-04-10T04:07:15.542Z"
   },
   {
    "duration": 170,
    "start_time": "2023-04-10T04:07:15.573Z"
   },
   {
    "duration": 27,
    "start_time": "2023-04-10T04:07:15.746Z"
   },
   {
    "duration": 54,
    "start_time": "2023-04-10T04:07:15.775Z"
   },
   {
    "duration": 169,
    "start_time": "2023-04-10T04:07:15.831Z"
   },
   {
    "duration": 8,
    "start_time": "2023-04-10T16:13:57.043Z"
   },
   {
    "duration": 2,
    "start_time": "2023-04-10T16:15:24.780Z"
   },
   {
    "duration": 2,
    "start_time": "2023-04-10T16:15:35.346Z"
   },
   {
    "duration": 9,
    "start_time": "2023-04-10T16:16:31.740Z"
   },
   {
    "duration": 4,
    "start_time": "2023-04-10T16:16:50.235Z"
   },
   {
    "duration": 1090,
    "start_time": "2023-04-10T16:18:23.371Z"
   },
   {
    "duration": 1267,
    "start_time": "2023-04-10T16:18:24.463Z"
   },
   {
    "duration": 18,
    "start_time": "2023-04-10T16:18:25.732Z"
   },
   {
    "duration": 9,
    "start_time": "2023-04-10T16:18:25.751Z"
   },
   {
    "duration": 19,
    "start_time": "2023-04-10T16:18:25.762Z"
   },
   {
    "duration": 470,
    "start_time": "2023-04-10T16:18:25.782Z"
   },
   {
    "duration": 66,
    "start_time": "2023-04-10T16:18:26.254Z"
   },
   {
    "duration": 18,
    "start_time": "2023-04-10T16:18:26.322Z"
   },
   {
    "duration": 46,
    "start_time": "2023-04-10T16:18:26.342Z"
   },
   {
    "duration": 36,
    "start_time": "2023-04-10T16:18:26.390Z"
   },
   {
    "duration": 47,
    "start_time": "2023-04-10T16:18:26.427Z"
   },
   {
    "duration": 12,
    "start_time": "2023-04-10T16:18:26.476Z"
   },
   {
    "duration": 42,
    "start_time": "2023-04-10T16:18:26.489Z"
   },
   {
    "duration": 17,
    "start_time": "2023-04-10T16:18:26.532Z"
   },
   {
    "duration": 16,
    "start_time": "2023-04-10T16:18:26.551Z"
   },
   {
    "duration": 5,
    "start_time": "2023-04-10T16:18:26.569Z"
   },
   {
    "duration": 11,
    "start_time": "2023-04-10T16:18:26.575Z"
   },
   {
    "duration": 29,
    "start_time": "2023-04-10T16:18:26.588Z"
   },
   {
    "duration": 9,
    "start_time": "2023-04-10T16:18:26.618Z"
   },
   {
    "duration": 10,
    "start_time": "2023-04-10T16:18:26.629Z"
   },
   {
    "duration": 10,
    "start_time": "2023-04-10T16:18:26.641Z"
   },
   {
    "duration": 23,
    "start_time": "2023-04-10T16:18:26.653Z"
   },
   {
    "duration": 10,
    "start_time": "2023-04-10T16:18:26.678Z"
   },
   {
    "duration": 25,
    "start_time": "2023-04-10T16:18:26.690Z"
   },
   {
    "duration": 14,
    "start_time": "2023-04-10T16:18:26.717Z"
   },
   {
    "duration": 16,
    "start_time": "2023-04-10T16:18:26.733Z"
   },
   {
    "duration": 3,
    "start_time": "2023-04-10T16:18:26.750Z"
   },
   {
    "duration": 63,
    "start_time": "2023-04-10T16:18:26.756Z"
   },
   {
    "duration": 95,
    "start_time": "2023-04-10T16:18:26.821Z"
   },
   {
    "duration": 5,
    "start_time": "2023-04-10T16:18:26.919Z"
   },
   {
    "duration": 103,
    "start_time": "2023-04-10T16:18:27.013Z"
   },
   {
    "duration": 17,
    "start_time": "2023-04-10T16:18:27.118Z"
   },
   {
    "duration": 9,
    "start_time": "2023-04-10T16:18:27.137Z"
   },
   {
    "duration": 10,
    "start_time": "2023-04-10T16:18:27.212Z"
   },
   {
    "duration": 95,
    "start_time": "2023-04-10T16:18:27.224Z"
   },
   {
    "duration": 26,
    "start_time": "2023-04-10T16:18:27.321Z"
   },
   {
    "duration": 63,
    "start_time": "2023-04-10T16:18:27.348Z"
   },
   {
    "duration": 96,
    "start_time": "2023-04-10T16:18:27.417Z"
   },
   {
    "duration": 24,
    "start_time": "2023-04-10T16:18:27.515Z"
   },
   {
    "duration": 9,
    "start_time": "2023-04-10T16:18:27.540Z"
   },
   {
    "duration": 14,
    "start_time": "2023-04-10T16:18:27.551Z"
   },
   {
    "duration": 3,
    "start_time": "2023-04-10T16:24:02.853Z"
   },
   {
    "duration": 4,
    "start_time": "2023-04-10T16:24:04.212Z"
   },
   {
    "duration": 3,
    "start_time": "2023-04-10T16:24:10.077Z"
   },
   {
    "duration": 5,
    "start_time": "2023-04-10T16:24:19.372Z"
   },
   {
    "duration": 4,
    "start_time": "2023-04-10T16:26:01.252Z"
   },
   {
    "duration": 5,
    "start_time": "2023-04-10T16:26:26.443Z"
   },
   {
    "duration": 5,
    "start_time": "2023-04-10T16:26:39.563Z"
   },
   {
    "duration": 4,
    "start_time": "2023-04-10T16:41:29.669Z"
   },
   {
    "duration": 111,
    "start_time": "2023-04-10T16:48:14.937Z"
   },
   {
    "duration": 1087,
    "start_time": "2023-04-10T16:48:25.205Z"
   },
   {
    "duration": 360,
    "start_time": "2023-04-10T16:48:26.294Z"
   },
   {
    "duration": 18,
    "start_time": "2023-04-10T16:48:26.655Z"
   },
   {
    "duration": 17,
    "start_time": "2023-04-10T16:48:26.675Z"
   },
   {
    "duration": 19,
    "start_time": "2023-04-10T16:48:26.693Z"
   },
   {
    "duration": 288,
    "start_time": "2023-04-10T16:48:26.713Z"
   },
   {
    "duration": 57,
    "start_time": "2023-04-10T16:48:27.003Z"
   },
   {
    "duration": 17,
    "start_time": "2023-04-10T16:48:27.062Z"
   },
   {
    "duration": 71,
    "start_time": "2023-04-10T16:48:27.081Z"
   },
   {
    "duration": 16,
    "start_time": "2023-04-10T16:48:27.155Z"
   },
   {
    "duration": 65,
    "start_time": "2023-04-10T16:48:27.172Z"
   },
   {
    "duration": 12,
    "start_time": "2023-04-10T16:48:27.239Z"
   },
   {
    "duration": 18,
    "start_time": "2023-04-10T16:48:27.252Z"
   },
   {
    "duration": 15,
    "start_time": "2023-04-10T16:48:27.271Z"
   },
   {
    "duration": 31,
    "start_time": "2023-04-10T16:48:27.288Z"
   },
   {
    "duration": 5,
    "start_time": "2023-04-10T16:48:27.321Z"
   },
   {
    "duration": 7,
    "start_time": "2023-04-10T16:48:27.328Z"
   },
   {
    "duration": 7,
    "start_time": "2023-04-10T16:48:27.337Z"
   },
   {
    "duration": 5,
    "start_time": "2023-04-10T16:48:27.346Z"
   },
   {
    "duration": 6,
    "start_time": "2023-04-10T16:48:27.352Z"
   },
   {
    "duration": 6,
    "start_time": "2023-04-10T16:48:27.360Z"
   },
   {
    "duration": 9,
    "start_time": "2023-04-10T16:48:27.368Z"
   },
   {
    "duration": 4,
    "start_time": "2023-04-10T16:48:27.378Z"
   },
   {
    "duration": 42,
    "start_time": "2023-04-10T16:48:27.383Z"
   },
   {
    "duration": 14,
    "start_time": "2023-04-10T16:48:27.427Z"
   },
   {
    "duration": 15,
    "start_time": "2023-04-10T16:48:27.444Z"
   },
   {
    "duration": 3,
    "start_time": "2023-04-10T16:48:27.460Z"
   },
   {
    "duration": 27,
    "start_time": "2023-04-10T16:48:27.466Z"
   },
   {
    "duration": 22,
    "start_time": "2023-04-10T16:48:27.495Z"
   },
   {
    "duration": 94,
    "start_time": "2023-04-10T16:48:27.519Z"
   },
   {
    "duration": 97,
    "start_time": "2023-04-10T16:48:27.615Z"
   },
   {
    "duration": 18,
    "start_time": "2023-04-10T16:48:27.714Z"
   },
   {
    "duration": 10,
    "start_time": "2023-04-10T16:48:27.733Z"
   },
   {
    "duration": 68,
    "start_time": "2023-04-10T16:48:27.745Z"
   },
   {
    "duration": 96,
    "start_time": "2023-04-10T16:48:27.816Z"
   },
   {
    "duration": 18,
    "start_time": "2023-04-10T16:48:27.914Z"
   },
   {
    "duration": 19,
    "start_time": "2023-04-10T16:48:27.935Z"
   },
   {
    "duration": 158,
    "start_time": "2023-04-10T16:48:27.956Z"
   },
   {
    "duration": 7,
    "start_time": "2023-04-10T16:48:28.116Z"
   },
   {
    "duration": 19,
    "start_time": "2023-04-10T16:48:28.124Z"
   },
   {
    "duration": 11,
    "start_time": "2023-04-10T16:48:28.145Z"
   },
   {
    "duration": 6,
    "start_time": "2023-04-10T16:48:28.158Z"
   },
   {
    "duration": 148,
    "start_time": "2023-04-10T16:48:28.165Z"
   },
   {
    "duration": 13,
    "start_time": "2023-04-10T16:50:13.903Z"
   },
   {
    "duration": 3,
    "start_time": "2023-04-10T16:50:17.768Z"
   },
   {
    "duration": 12,
    "start_time": "2023-04-10T16:50:18.373Z"
   },
   {
    "duration": 13,
    "start_time": "2023-04-10T16:56:31.629Z"
   },
   {
    "duration": 12,
    "start_time": "2023-04-10T16:56:38.077Z"
   },
   {
    "duration": 3,
    "start_time": "2023-04-10T16:57:23.629Z"
   },
   {
    "duration": 15,
    "start_time": "2023-04-10T16:57:24.325Z"
   },
   {
    "duration": 5,
    "start_time": "2023-04-10T17:01:08.387Z"
   },
   {
    "duration": 1089,
    "start_time": "2023-04-10T17:01:25.509Z"
   },
   {
    "duration": 473,
    "start_time": "2023-04-10T17:01:26.600Z"
   },
   {
    "duration": 17,
    "start_time": "2023-04-10T17:01:27.074Z"
   },
   {
    "duration": 20,
    "start_time": "2023-04-10T17:01:27.093Z"
   },
   {
    "duration": 10,
    "start_time": "2023-04-10T17:01:27.115Z"
   },
   {
    "duration": 297,
    "start_time": "2023-04-10T17:01:27.127Z"
   },
   {
    "duration": 54,
    "start_time": "2023-04-10T17:01:27.426Z"
   },
   {
    "duration": 38,
    "start_time": "2023-04-10T17:01:27.482Z"
   },
   {
    "duration": 48,
    "start_time": "2023-04-10T17:01:27.521Z"
   },
   {
    "duration": 15,
    "start_time": "2023-04-10T17:01:27.571Z"
   },
   {
    "duration": 72,
    "start_time": "2023-04-10T17:01:27.588Z"
   },
   {
    "duration": 13,
    "start_time": "2023-04-10T17:01:27.662Z"
   },
   {
    "duration": 34,
    "start_time": "2023-04-10T17:01:27.677Z"
   },
   {
    "duration": 33,
    "start_time": "2023-04-10T17:01:27.713Z"
   },
   {
    "duration": 14,
    "start_time": "2023-04-10T17:01:27.747Z"
   },
   {
    "duration": 50,
    "start_time": "2023-04-10T17:01:27.763Z"
   },
   {
    "duration": 0,
    "start_time": "2023-04-10T17:01:27.815Z"
   },
   {
    "duration": 0,
    "start_time": "2023-04-10T17:01:27.817Z"
   },
   {
    "duration": 0,
    "start_time": "2023-04-10T17:01:27.818Z"
   },
   {
    "duration": 0,
    "start_time": "2023-04-10T17:01:27.819Z"
   },
   {
    "duration": 0,
    "start_time": "2023-04-10T17:01:27.821Z"
   },
   {
    "duration": 0,
    "start_time": "2023-04-10T17:01:27.822Z"
   },
   {
    "duration": 0,
    "start_time": "2023-04-10T17:01:27.823Z"
   },
   {
    "duration": 0,
    "start_time": "2023-04-10T17:01:27.824Z"
   },
   {
    "duration": 0,
    "start_time": "2023-04-10T17:01:27.825Z"
   },
   {
    "duration": 1,
    "start_time": "2023-04-10T17:01:27.825Z"
   },
   {
    "duration": 0,
    "start_time": "2023-04-10T17:01:27.826Z"
   },
   {
    "duration": 0,
    "start_time": "2023-04-10T17:01:27.828Z"
   },
   {
    "duration": 0,
    "start_time": "2023-04-10T17:01:27.829Z"
   },
   {
    "duration": 0,
    "start_time": "2023-04-10T17:01:27.831Z"
   },
   {
    "duration": 0,
    "start_time": "2023-04-10T17:01:27.832Z"
   },
   {
    "duration": 0,
    "start_time": "2023-04-10T17:01:27.833Z"
   },
   {
    "duration": 0,
    "start_time": "2023-04-10T17:01:27.834Z"
   },
   {
    "duration": 0,
    "start_time": "2023-04-10T17:01:27.835Z"
   },
   {
    "duration": 0,
    "start_time": "2023-04-10T17:01:27.836Z"
   },
   {
    "duration": 0,
    "start_time": "2023-04-10T17:01:27.837Z"
   },
   {
    "duration": 0,
    "start_time": "2023-04-10T17:01:27.838Z"
   },
   {
    "duration": 0,
    "start_time": "2023-04-10T17:01:27.839Z"
   },
   {
    "duration": 0,
    "start_time": "2023-04-10T17:01:27.840Z"
   },
   {
    "duration": 0,
    "start_time": "2023-04-10T17:01:27.841Z"
   },
   {
    "duration": 0,
    "start_time": "2023-04-10T17:01:27.842Z"
   },
   {
    "duration": 0,
    "start_time": "2023-04-10T17:01:27.843Z"
   },
   {
    "duration": 0,
    "start_time": "2023-04-10T17:01:27.844Z"
   },
   {
    "duration": 4,
    "start_time": "2023-04-10T17:01:48.281Z"
   },
   {
    "duration": 115,
    "start_time": "2023-04-10T17:01:48.841Z"
   },
   {
    "duration": 1068,
    "start_time": "2023-04-10T17:01:59.743Z"
   },
   {
    "duration": 399,
    "start_time": "2023-04-10T17:02:00.813Z"
   },
   {
    "duration": 15,
    "start_time": "2023-04-10T17:02:01.214Z"
   },
   {
    "duration": 39,
    "start_time": "2023-04-10T17:02:01.231Z"
   },
   {
    "duration": 63,
    "start_time": "2023-04-10T17:02:01.272Z"
   },
   {
    "duration": 339,
    "start_time": "2023-04-10T17:02:01.337Z"
   },
   {
    "duration": 64,
    "start_time": "2023-04-10T17:02:01.678Z"
   },
   {
    "duration": 16,
    "start_time": "2023-04-10T17:02:01.744Z"
   },
   {
    "duration": 80,
    "start_time": "2023-04-10T17:02:01.761Z"
   },
   {
    "duration": 16,
    "start_time": "2023-04-10T17:02:01.844Z"
   },
   {
    "duration": 102,
    "start_time": "2023-04-10T17:02:01.862Z"
   },
   {
    "duration": 42,
    "start_time": "2023-04-10T17:02:01.966Z"
   },
   {
    "duration": 44,
    "start_time": "2023-04-10T17:02:02.010Z"
   },
   {
    "duration": 42,
    "start_time": "2023-04-10T17:02:02.056Z"
   },
   {
    "duration": 20,
    "start_time": "2023-04-10T17:02:02.100Z"
   },
   {
    "duration": 46,
    "start_time": "2023-04-10T17:02:02.121Z"
   },
   {
    "duration": 0,
    "start_time": "2023-04-10T17:02:02.169Z"
   },
   {
    "duration": 0,
    "start_time": "2023-04-10T17:02:02.170Z"
   },
   {
    "duration": 0,
    "start_time": "2023-04-10T17:02:02.171Z"
   },
   {
    "duration": 0,
    "start_time": "2023-04-10T17:02:02.172Z"
   },
   {
    "duration": 0,
    "start_time": "2023-04-10T17:02:02.173Z"
   },
   {
    "duration": 0,
    "start_time": "2023-04-10T17:02:02.174Z"
   },
   {
    "duration": 0,
    "start_time": "2023-04-10T17:02:02.175Z"
   },
   {
    "duration": 0,
    "start_time": "2023-04-10T17:02:02.177Z"
   },
   {
    "duration": 0,
    "start_time": "2023-04-10T17:02:02.177Z"
   },
   {
    "duration": 0,
    "start_time": "2023-04-10T17:02:02.178Z"
   },
   {
    "duration": 0,
    "start_time": "2023-04-10T17:02:02.180Z"
   },
   {
    "duration": 0,
    "start_time": "2023-04-10T17:02:02.181Z"
   },
   {
    "duration": 0,
    "start_time": "2023-04-10T17:02:02.181Z"
   },
   {
    "duration": 0,
    "start_time": "2023-04-10T17:02:02.182Z"
   },
   {
    "duration": 0,
    "start_time": "2023-04-10T17:02:02.183Z"
   },
   {
    "duration": 0,
    "start_time": "2023-04-10T17:02:02.183Z"
   },
   {
    "duration": 0,
    "start_time": "2023-04-10T17:02:02.184Z"
   },
   {
    "duration": 0,
    "start_time": "2023-04-10T17:02:02.185Z"
   },
   {
    "duration": 0,
    "start_time": "2023-04-10T17:02:02.186Z"
   },
   {
    "duration": 0,
    "start_time": "2023-04-10T17:02:02.187Z"
   },
   {
    "duration": 0,
    "start_time": "2023-04-10T17:02:02.188Z"
   },
   {
    "duration": 0,
    "start_time": "2023-04-10T17:02:02.189Z"
   },
   {
    "duration": 0,
    "start_time": "2023-04-10T17:02:02.189Z"
   },
   {
    "duration": 0,
    "start_time": "2023-04-10T17:02:02.190Z"
   },
   {
    "duration": 0,
    "start_time": "2023-04-10T17:02:02.191Z"
   },
   {
    "duration": 0,
    "start_time": "2023-04-10T17:02:02.192Z"
   },
   {
    "duration": 0,
    "start_time": "2023-04-10T17:02:02.193Z"
   },
   {
    "duration": 7,
    "start_time": "2023-04-10T17:02:26.373Z"
   },
   {
    "duration": 1092,
    "start_time": "2023-04-10T17:02:31.036Z"
   },
   {
    "duration": 388,
    "start_time": "2023-04-10T17:02:32.130Z"
   },
   {
    "duration": 17,
    "start_time": "2023-04-10T17:02:32.519Z"
   },
   {
    "duration": 15,
    "start_time": "2023-04-10T17:02:32.538Z"
   },
   {
    "duration": 31,
    "start_time": "2023-04-10T17:02:32.554Z"
   },
   {
    "duration": 315,
    "start_time": "2023-04-10T17:02:32.587Z"
   },
   {
    "duration": 58,
    "start_time": "2023-04-10T17:02:32.903Z"
   },
   {
    "duration": 16,
    "start_time": "2023-04-10T17:02:32.962Z"
   },
   {
    "duration": 73,
    "start_time": "2023-04-10T17:02:32.980Z"
   },
   {
    "duration": 17,
    "start_time": "2023-04-10T17:02:33.055Z"
   },
   {
    "duration": 72,
    "start_time": "2023-04-10T17:02:33.073Z"
   },
   {
    "duration": 14,
    "start_time": "2023-04-10T17:02:33.147Z"
   },
   {
    "duration": 31,
    "start_time": "2023-04-10T17:02:33.162Z"
   },
   {
    "duration": 22,
    "start_time": "2023-04-10T17:02:33.195Z"
   },
   {
    "duration": 15,
    "start_time": "2023-04-10T17:02:33.219Z"
   },
   {
    "duration": 6,
    "start_time": "2023-04-10T17:02:33.236Z"
   },
   {
    "duration": 9,
    "start_time": "2023-04-10T17:02:33.244Z"
   },
   {
    "duration": 7,
    "start_time": "2023-04-10T17:02:33.255Z"
   },
   {
    "duration": 5,
    "start_time": "2023-04-10T17:02:33.263Z"
   },
   {
    "duration": 4,
    "start_time": "2023-04-10T17:02:33.269Z"
   },
   {
    "duration": 41,
    "start_time": "2023-04-10T17:02:33.274Z"
   },
   {
    "duration": 7,
    "start_time": "2023-04-10T17:02:33.317Z"
   },
   {
    "duration": 4,
    "start_time": "2023-04-10T17:02:33.326Z"
   },
   {
    "duration": 20,
    "start_time": "2023-04-10T17:02:33.331Z"
   },
   {
    "duration": 17,
    "start_time": "2023-04-10T17:02:33.353Z"
   },
   {
    "duration": 51,
    "start_time": "2023-04-10T17:02:33.373Z"
   },
   {
    "duration": 3,
    "start_time": "2023-04-10T17:02:33.426Z"
   },
   {
    "duration": 29,
    "start_time": "2023-04-10T17:02:33.432Z"
   },
   {
    "duration": 55,
    "start_time": "2023-04-10T17:02:33.463Z"
   },
   {
    "duration": 94,
    "start_time": "2023-04-10T17:02:33.520Z"
   },
   {
    "duration": 17,
    "start_time": "2023-04-10T17:02:33.616Z"
   },
   {
    "duration": 11,
    "start_time": "2023-04-10T17:02:33.635Z"
   },
   {
    "duration": 72,
    "start_time": "2023-04-10T17:02:33.648Z"
   },
   {
    "duration": 95,
    "start_time": "2023-04-10T17:02:33.722Z"
   },
   {
    "duration": 24,
    "start_time": "2023-04-10T17:02:33.820Z"
   },
   {
    "duration": 55,
    "start_time": "2023-04-10T17:02:33.845Z"
   },
   {
    "duration": 34,
    "start_time": "2023-04-10T17:02:33.903Z"
   },
   {
    "duration": 174,
    "start_time": "2023-04-10T17:02:33.938Z"
   },
   {
    "duration": 5,
    "start_time": "2023-04-10T17:02:34.114Z"
   },
   {
    "duration": 17,
    "start_time": "2023-04-10T17:02:34.120Z"
   },
   {
    "duration": 20,
    "start_time": "2023-04-10T17:02:34.139Z"
   },
   {
    "duration": 35,
    "start_time": "2023-04-10T17:02:34.161Z"
   },
   {
    "duration": 111,
    "start_time": "2023-04-10T17:02:34.198Z"
   },
   {
    "duration": 5,
    "start_time": "2023-04-10T17:02:56.493Z"
   },
   {
    "duration": 5,
    "start_time": "2023-04-10T17:05:39.488Z"
   },
   {
    "duration": 5,
    "start_time": "2023-04-10T17:05:51.864Z"
   },
   {
    "duration": 6,
    "start_time": "2023-04-10T17:05:59.304Z"
   },
   {
    "duration": 8,
    "start_time": "2023-04-10T17:07:52.967Z"
   },
   {
    "duration": 5,
    "start_time": "2023-04-10T17:08:00.240Z"
   },
   {
    "duration": 5,
    "start_time": "2023-04-10T17:08:47.199Z"
   },
   {
    "duration": 16,
    "start_time": "2023-04-10T17:08:54.344Z"
   },
   {
    "duration": 9,
    "start_time": "2023-04-10T17:11:59.741Z"
   },
   {
    "duration": 7,
    "start_time": "2023-04-10T17:13:36.461Z"
   },
   {
    "duration": 9,
    "start_time": "2023-04-10T17:13:42.621Z"
   },
   {
    "duration": 1607,
    "start_time": "2023-04-10T17:14:05.933Z"
   },
   {
    "duration": 1483,
    "start_time": "2023-04-10T17:14:24.373Z"
   },
   {
    "duration": 3,
    "start_time": "2023-04-10T17:14:28.948Z"
   },
   {
    "duration": 1510,
    "start_time": "2023-04-10T17:14:29.604Z"
   },
   {
    "duration": 3,
    "start_time": "2023-04-10T17:14:46.845Z"
   },
   {
    "duration": 1511,
    "start_time": "2023-04-10T17:14:48.895Z"
   },
   {
    "duration": 1463,
    "start_time": "2023-04-10T17:14:56.624Z"
   },
   {
    "duration": 1458,
    "start_time": "2023-04-10T17:15:25.149Z"
   },
   {
    "duration": 5,
    "start_time": "2023-04-10T17:15:30.332Z"
   },
   {
    "duration": 1534,
    "start_time": "2023-04-10T17:15:38.303Z"
   },
   {
    "duration": 1530,
    "start_time": "2023-04-10T17:15:43.904Z"
   },
   {
    "duration": 6,
    "start_time": "2023-04-10T17:16:21.204Z"
   },
   {
    "duration": 1494,
    "start_time": "2023-04-10T17:16:24.460Z"
   },
   {
    "duration": 1495,
    "start_time": "2023-04-10T17:16:54.763Z"
   },
   {
    "duration": 1520,
    "start_time": "2023-04-10T17:17:09.259Z"
   },
   {
    "duration": 1561,
    "start_time": "2023-04-10T17:17:13.155Z"
   },
   {
    "duration": 1726,
    "start_time": "2023-04-10T17:17:18.507Z"
   },
   {
    "duration": 1493,
    "start_time": "2023-04-10T17:17:45.835Z"
   },
   {
    "duration": 1590,
    "start_time": "2023-04-10T17:18:37.853Z"
   },
   {
    "duration": 1483,
    "start_time": "2023-04-10T17:18:50.370Z"
   },
   {
    "duration": 6,
    "start_time": "2023-04-10T17:19:48.401Z"
   },
   {
    "duration": 6,
    "start_time": "2023-04-10T17:19:49.097Z"
   },
   {
    "duration": 7,
    "start_time": "2023-04-10T17:19:49.841Z"
   },
   {
    "duration": 5,
    "start_time": "2023-04-10T17:20:27.545Z"
   },
   {
    "duration": 20,
    "start_time": "2023-04-10T17:20:35.283Z"
   },
   {
    "duration": 7,
    "start_time": "2023-04-10T17:21:00.377Z"
   },
   {
    "duration": 7,
    "start_time": "2023-04-10T17:21:00.897Z"
   },
   {
    "duration": 9,
    "start_time": "2023-04-10T17:21:01.657Z"
   },
   {
    "duration": 5,
    "start_time": "2023-04-10T17:21:08.684Z"
   },
   {
    "duration": 1632,
    "start_time": "2023-04-10T17:21:14.154Z"
   },
   {
    "duration": 58,
    "start_time": "2023-04-11T03:53:39.219Z"
   },
   {
    "duration": 1229,
    "start_time": "2023-04-11T03:53:44.907Z"
   },
   {
    "duration": 1635,
    "start_time": "2023-04-11T03:53:46.138Z"
   },
   {
    "duration": 19,
    "start_time": "2023-04-11T03:53:47.775Z"
   },
   {
    "duration": 11,
    "start_time": "2023-04-11T03:53:47.797Z"
   },
   {
    "duration": 22,
    "start_time": "2023-04-11T03:53:47.810Z"
   },
   {
    "duration": 700,
    "start_time": "2023-04-11T03:53:47.835Z"
   },
   {
    "duration": 71,
    "start_time": "2023-04-11T03:53:48.541Z"
   },
   {
    "duration": 37,
    "start_time": "2023-04-11T03:53:48.614Z"
   },
   {
    "duration": 57,
    "start_time": "2023-04-11T03:53:48.653Z"
   },
   {
    "duration": 37,
    "start_time": "2023-04-11T03:53:48.713Z"
   },
   {
    "duration": 70,
    "start_time": "2023-04-11T03:53:48.752Z"
   },
   {
    "duration": 19,
    "start_time": "2023-04-11T03:53:48.823Z"
   },
   {
    "duration": 178,
    "start_time": "2023-04-11T03:53:48.844Z"
   },
   {
    "duration": 28,
    "start_time": "2023-04-11T03:53:49.023Z"
   },
   {
    "duration": 28,
    "start_time": "2023-04-11T03:53:49.053Z"
   },
   {
    "duration": 20,
    "start_time": "2023-04-11T03:53:49.083Z"
   },
   {
    "duration": 29,
    "start_time": "2023-04-11T03:53:49.106Z"
   },
   {
    "duration": 21,
    "start_time": "2023-04-11T03:53:49.138Z"
   },
   {
    "duration": 36,
    "start_time": "2023-04-11T03:53:49.161Z"
   },
   {
    "duration": 43,
    "start_time": "2023-04-11T03:53:49.199Z"
   },
   {
    "duration": 39,
    "start_time": "2023-04-11T03:53:49.243Z"
   },
   {
    "duration": 27,
    "start_time": "2023-04-11T03:53:49.284Z"
   },
   {
    "duration": 46,
    "start_time": "2023-04-11T03:53:49.313Z"
   },
   {
    "duration": 51,
    "start_time": "2023-04-11T03:53:49.361Z"
   },
   {
    "duration": 43,
    "start_time": "2023-04-11T03:53:49.415Z"
   },
   {
    "duration": 23,
    "start_time": "2023-04-11T03:53:49.459Z"
   },
   {
    "duration": 5,
    "start_time": "2023-04-11T03:53:49.483Z"
   },
   {
    "duration": 50,
    "start_time": "2023-04-11T03:53:49.491Z"
   },
   {
    "duration": 106,
    "start_time": "2023-04-11T03:53:49.543Z"
   },
   {
    "duration": 194,
    "start_time": "2023-04-11T03:53:49.651Z"
   },
   {
    "duration": 22,
    "start_time": "2023-04-11T03:53:49.847Z"
   },
   {
    "duration": 30,
    "start_time": "2023-04-11T03:53:49.871Z"
   },
   {
    "duration": 13,
    "start_time": "2023-04-11T03:53:49.903Z"
   },
   {
    "duration": 136,
    "start_time": "2023-04-11T03:53:49.942Z"
   },
   {
    "duration": 15,
    "start_time": "2023-04-11T03:53:50.080Z"
   },
   {
    "duration": 16,
    "start_time": "2023-04-11T03:53:50.097Z"
   },
   {
    "duration": 13,
    "start_time": "2023-04-11T03:53:50.115Z"
   },
   {
    "duration": 126,
    "start_time": "2023-04-11T03:53:50.140Z"
   },
   {
    "duration": 42,
    "start_time": "2023-04-11T03:53:50.268Z"
   },
   {
    "duration": 32,
    "start_time": "2023-04-11T03:53:50.312Z"
   },
   {
    "duration": 33,
    "start_time": "2023-04-11T03:53:50.346Z"
   },
   {
    "duration": 16,
    "start_time": "2023-04-11T03:53:50.381Z"
   },
   {
    "duration": 132,
    "start_time": "2023-04-11T03:53:50.399Z"
   },
   {
    "duration": 0,
    "start_time": "2023-04-11T03:53:50.533Z"
   },
   {
    "duration": 0,
    "start_time": "2023-04-11T03:53:50.535Z"
   },
   {
    "duration": 14,
    "start_time": "2023-04-11T03:54:35.187Z"
   },
   {
    "duration": 12,
    "start_time": "2023-04-11T03:54:36.548Z"
   },
   {
    "duration": 12,
    "start_time": "2023-04-11T03:54:36.752Z"
   },
   {
    "duration": 4,
    "start_time": "2023-04-11T03:54:38.921Z"
   },
   {
    "duration": 10,
    "start_time": "2023-04-11T03:54:39.794Z"
   },
   {
    "duration": 1659,
    "start_time": "2023-04-11T03:54:42.466Z"
   },
   {
    "duration": 7,
    "start_time": "2023-04-11T03:54:51.410Z"
   },
   {
    "duration": 7,
    "start_time": "2023-04-11T03:55:14.058Z"
   },
   {
    "duration": 1511,
    "start_time": "2023-04-11T03:55:16.873Z"
   },
   {
    "duration": 7,
    "start_time": "2023-04-11T03:55:19.313Z"
   },
   {
    "duration": 8,
    "start_time": "2023-04-11T03:55:21.433Z"
   },
   {
    "duration": 8,
    "start_time": "2023-04-11T03:55:33.288Z"
   },
   {
    "duration": 9,
    "start_time": "2023-04-11T03:55:36.424Z"
   },
   {
    "duration": 1734,
    "start_time": "2023-04-11T03:55:44.744Z"
   },
   {
    "duration": 11,
    "start_time": "2023-04-11T03:55:48.201Z"
   },
   {
    "duration": 1515,
    "start_time": "2023-04-11T03:55:50.922Z"
   },
   {
    "duration": 1714,
    "start_time": "2023-04-11T03:55:55.875Z"
   },
   {
    "duration": 1454,
    "start_time": "2023-04-11T03:56:14.265Z"
   },
   {
    "duration": 1480,
    "start_time": "2023-04-11T03:56:18.409Z"
   },
   {
    "duration": 1484,
    "start_time": "2023-04-11T03:56:21.736Z"
   },
   {
    "duration": 3,
    "start_time": "2023-04-11T03:57:26.224Z"
   },
   {
    "duration": 1517,
    "start_time": "2023-04-11T03:57:27.200Z"
   },
   {
    "duration": 1510,
    "start_time": "2023-04-11T03:57:31.848Z"
   },
   {
    "duration": 1525,
    "start_time": "2023-04-11T03:57:36.744Z"
   },
   {
    "duration": 1441,
    "start_time": "2023-04-11T03:57:47.672Z"
   },
   {
    "duration": 5,
    "start_time": "2023-04-11T04:01:40.910Z"
   },
   {
    "duration": 1338,
    "start_time": "2023-04-11T04:02:23.958Z"
   },
   {
    "duration": 1477,
    "start_time": "2023-04-11T04:02:29.902Z"
   },
   {
    "duration": 1316,
    "start_time": "2023-04-11T04:03:14.229Z"
   },
   {
    "duration": 1319,
    "start_time": "2023-04-11T04:03:17.917Z"
   },
   {
    "duration": 1394,
    "start_time": "2023-04-11T04:03:26.233Z"
   },
   {
    "duration": 1383,
    "start_time": "2023-04-11T04:03:32.238Z"
   },
   {
    "duration": 1470,
    "start_time": "2023-04-11T04:03:35.173Z"
   },
   {
    "duration": 1438,
    "start_time": "2023-04-11T04:03:46.942Z"
   },
   {
    "duration": 1353,
    "start_time": "2023-04-11T04:03:52.173Z"
   },
   {
    "duration": 1485,
    "start_time": "2023-04-11T04:03:55.094Z"
   },
   {
    "duration": 1357,
    "start_time": "2023-04-11T04:03:59.321Z"
   },
   {
    "duration": 1338,
    "start_time": "2023-04-11T04:04:02.494Z"
   },
   {
    "duration": 1373,
    "start_time": "2023-04-11T04:04:06.389Z"
   },
   {
    "duration": 1340,
    "start_time": "2023-04-11T04:04:10.301Z"
   },
   {
    "duration": 1461,
    "start_time": "2023-04-11T04:04:14.869Z"
   },
   {
    "duration": 1329,
    "start_time": "2023-04-11T04:04:18.077Z"
   },
   {
    "duration": 1323,
    "start_time": "2023-04-11T04:04:20.776Z"
   },
   {
    "duration": 1623,
    "start_time": "2023-04-11T04:04:25.175Z"
   },
   {
    "duration": 1332,
    "start_time": "2023-04-11T04:04:28.509Z"
   },
   {
    "duration": 1294,
    "start_time": "2023-04-11T04:04:32.285Z"
   },
   {
    "duration": 1469,
    "start_time": "2023-04-11T04:04:35.502Z"
   },
   {
    "duration": 7,
    "start_time": "2023-04-11T04:14:12.362Z"
   },
   {
    "duration": 1420,
    "start_time": "2023-04-11T04:18:40.747Z"
   },
   {
    "duration": 8,
    "start_time": "2023-04-11T04:18:56.146Z"
   },
   {
    "duration": 1513,
    "start_time": "2023-04-11T04:18:57.250Z"
   },
   {
    "duration": 1584,
    "start_time": "2023-04-11T04:18:59.968Z"
   },
   {
    "duration": 1441,
    "start_time": "2023-04-11T04:19:02.776Z"
   },
   {
    "duration": 4,
    "start_time": "2023-04-11T04:19:09.631Z"
   },
   {
    "duration": 1385,
    "start_time": "2023-04-11T04:19:11.592Z"
   },
   {
    "duration": 1512,
    "start_time": "2023-04-11T04:19:15.519Z"
   },
   {
    "duration": 1402,
    "start_time": "2023-04-11T04:19:18.000Z"
   },
   {
    "duration": 10,
    "start_time": "2023-04-11T17:07:49.069Z"
   },
   {
    "duration": 1149,
    "start_time": "2023-04-11T17:07:57.431Z"
   },
   {
    "duration": 1660,
    "start_time": "2023-04-11T17:07:58.583Z"
   },
   {
    "duration": 16,
    "start_time": "2023-04-11T17:08:00.247Z"
   },
   {
    "duration": 48,
    "start_time": "2023-04-11T17:08:00.266Z"
   },
   {
    "duration": 50,
    "start_time": "2023-04-11T17:08:00.316Z"
   },
   {
    "duration": 607,
    "start_time": "2023-04-11T17:08:00.367Z"
   },
   {
    "duration": 58,
    "start_time": "2023-04-11T17:08:00.976Z"
   },
   {
    "duration": 31,
    "start_time": "2023-04-11T17:08:01.036Z"
   },
   {
    "duration": 88,
    "start_time": "2023-04-11T17:08:01.069Z"
   },
   {
    "duration": 28,
    "start_time": "2023-04-11T17:08:01.159Z"
   },
   {
    "duration": 76,
    "start_time": "2023-04-11T17:08:01.189Z"
   },
   {
    "duration": 19,
    "start_time": "2023-04-11T17:08:01.266Z"
   },
   {
    "duration": 83,
    "start_time": "2023-04-11T17:08:01.289Z"
   },
   {
    "duration": 60,
    "start_time": "2023-04-11T17:08:01.374Z"
   },
   {
    "duration": 106,
    "start_time": "2023-04-11T17:08:01.436Z"
   },
   {
    "duration": 46,
    "start_time": "2023-04-11T17:08:01.544Z"
   },
   {
    "duration": 75,
    "start_time": "2023-04-11T17:08:01.593Z"
   },
   {
    "duration": 52,
    "start_time": "2023-04-11T17:08:01.670Z"
   },
   {
    "duration": 36,
    "start_time": "2023-04-11T17:08:01.723Z"
   },
   {
    "duration": 44,
    "start_time": "2023-04-11T17:08:01.760Z"
   },
   {
    "duration": 65,
    "start_time": "2023-04-11T17:08:01.806Z"
   },
   {
    "duration": 75,
    "start_time": "2023-04-11T17:08:01.873Z"
   },
   {
    "duration": 50,
    "start_time": "2023-04-11T17:08:01.950Z"
   },
   {
    "duration": 63,
    "start_time": "2023-04-11T17:08:02.002Z"
   },
   {
    "duration": 30,
    "start_time": "2023-04-11T17:08:02.067Z"
   },
   {
    "duration": 75,
    "start_time": "2023-04-11T17:08:02.099Z"
   },
   {
    "duration": 10,
    "start_time": "2023-04-11T17:08:02.176Z"
   },
   {
    "duration": 48,
    "start_time": "2023-04-11T17:08:02.188Z"
   },
   {
    "duration": 208,
    "start_time": "2023-04-11T17:08:02.238Z"
   },
   {
    "duration": 182,
    "start_time": "2023-04-11T17:08:02.448Z"
   },
   {
    "duration": 35,
    "start_time": "2023-04-11T17:08:02.631Z"
   },
   {
    "duration": 27,
    "start_time": "2023-04-11T17:08:02.668Z"
   },
   {
    "duration": 43,
    "start_time": "2023-04-11T17:08:02.696Z"
   },
   {
    "duration": 177,
    "start_time": "2023-04-11T17:08:02.743Z"
   },
   {
    "duration": 12,
    "start_time": "2023-04-11T17:08:02.926Z"
   },
   {
    "duration": 43,
    "start_time": "2023-04-11T17:08:02.939Z"
   },
   {
    "duration": 10,
    "start_time": "2023-04-11T17:08:02.983Z"
   },
   {
    "duration": 122,
    "start_time": "2023-04-11T17:08:03.017Z"
   },
   {
    "duration": 25,
    "start_time": "2023-04-11T17:08:03.141Z"
   },
   {
    "duration": 25,
    "start_time": "2023-04-11T17:08:03.170Z"
   },
   {
    "duration": 39,
    "start_time": "2023-04-11T17:08:03.197Z"
   },
   {
    "duration": 44,
    "start_time": "2023-04-11T17:08:03.238Z"
   },
   {
    "duration": 67,
    "start_time": "2023-04-11T17:08:03.284Z"
   },
   {
    "duration": 57,
    "start_time": "2023-04-11T17:08:03.353Z"
   },
   {
    "duration": 1482,
    "start_time": "2023-04-11T17:08:03.412Z"
   },
   {
    "duration": 1433,
    "start_time": "2023-04-11T17:08:04.895Z"
   },
   {
    "duration": 1460,
    "start_time": "2023-04-11T17:08:06.330Z"
   },
   {
    "duration": 1426,
    "start_time": "2023-04-11T17:08:21.065Z"
   },
   {
    "duration": 1441,
    "start_time": "2023-04-11T17:08:25.098Z"
   },
   {
    "duration": 1429,
    "start_time": "2023-04-11T17:08:28.033Z"
   },
   {
    "duration": 4,
    "start_time": "2023-04-11T17:09:46.784Z"
   },
   {
    "duration": 3,
    "start_time": "2023-04-11T17:09:48.071Z"
   },
   {
    "duration": 4,
    "start_time": "2023-04-11T17:09:57.488Z"
   },
   {
    "duration": 1434,
    "start_time": "2023-04-11T17:09:59.815Z"
   },
   {
    "duration": 1428,
    "start_time": "2023-04-11T17:10:07.943Z"
   },
   {
    "duration": 9,
    "start_time": "2023-04-11T17:10:32.713Z"
   },
   {
    "duration": 1363,
    "start_time": "2023-04-11T17:10:33.305Z"
   },
   {
    "duration": 1439,
    "start_time": "2023-04-11T17:10:40.768Z"
   },
   {
    "duration": 1385,
    "start_time": "2023-04-11T17:10:44.828Z"
   },
   {
    "duration": 3,
    "start_time": "2023-04-11T17:16:51.632Z"
   },
   {
    "duration": 3,
    "start_time": "2023-04-11T17:18:04.804Z"
   },
   {
    "duration": 3,
    "start_time": "2023-04-11T17:18:05.948Z"
   },
   {
    "duration": 127,
    "start_time": "2023-04-11T17:21:09.411Z"
   },
   {
    "duration": 3,
    "start_time": "2023-04-11T17:21:13.482Z"
   },
   {
    "duration": 4,
    "start_time": "2023-04-11T17:21:14.410Z"
   },
   {
    "duration": 4,
    "start_time": "2023-04-11T17:21:23.531Z"
   },
   {
    "duration": 9,
    "start_time": "2023-04-11T17:21:29.222Z"
   },
   {
    "duration": 5,
    "start_time": "2023-04-11T17:21:29.794Z"
   },
   {
    "duration": 1461,
    "start_time": "2023-04-11T17:21:33.682Z"
   },
   {
    "duration": 1434,
    "start_time": "2023-04-11T17:21:36.372Z"
   },
   {
    "duration": 1415,
    "start_time": "2023-04-11T17:21:38.674Z"
   },
   {
    "duration": 5,
    "start_time": "2023-04-11T17:32:05.128Z"
   },
   {
    "duration": 1438,
    "start_time": "2023-04-11T17:32:05.996Z"
   },
   {
    "duration": 1396,
    "start_time": "2023-04-11T17:32:07.436Z"
   },
   {
    "duration": 1391,
    "start_time": "2023-04-11T17:32:08.834Z"
   },
   {
    "duration": 4,
    "start_time": "2023-04-11T17:32:58.141Z"
   },
   {
    "duration": 1400,
    "start_time": "2023-04-11T17:32:59.941Z"
   },
   {
    "duration": 1364,
    "start_time": "2023-04-11T17:33:03.288Z"
   },
   {
    "duration": 8,
    "start_time": "2023-04-11T17:33:09.191Z"
   },
   {
    "duration": 1506,
    "start_time": "2023-04-11T17:33:11.291Z"
   },
   {
    "duration": 1421,
    "start_time": "2023-04-11T17:33:13.629Z"
   },
   {
    "duration": 1437,
    "start_time": "2023-04-11T17:33:18.148Z"
   },
   {
    "duration": 4,
    "start_time": "2023-04-11T17:39:09.994Z"
   },
   {
    "duration": 4,
    "start_time": "2023-04-11T17:39:51.533Z"
   },
   {
    "duration": 5,
    "start_time": "2023-04-11T17:42:59.219Z"
   },
   {
    "duration": 4,
    "start_time": "2023-04-11T17:43:07.424Z"
   },
   {
    "duration": 5,
    "start_time": "2023-04-11T17:44:04.056Z"
   },
   {
    "duration": 4,
    "start_time": "2023-04-11T17:44:06.532Z"
   },
   {
    "duration": 1104,
    "start_time": "2023-04-11T17:55:47.255Z"
   },
   {
    "duration": 407,
    "start_time": "2023-04-11T17:55:48.361Z"
   },
   {
    "duration": 18,
    "start_time": "2023-04-11T17:55:48.770Z"
   },
   {
    "duration": 23,
    "start_time": "2023-04-11T17:55:48.790Z"
   },
   {
    "duration": 13,
    "start_time": "2023-04-11T17:55:48.816Z"
   },
   {
    "duration": 320,
    "start_time": "2023-04-11T17:55:48.831Z"
   },
   {
    "duration": 66,
    "start_time": "2023-04-11T17:55:49.153Z"
   },
   {
    "duration": 16,
    "start_time": "2023-04-11T17:55:49.221Z"
   },
   {
    "duration": 59,
    "start_time": "2023-04-11T17:55:49.239Z"
   },
   {
    "duration": 24,
    "start_time": "2023-04-11T17:55:49.299Z"
   },
   {
    "duration": 55,
    "start_time": "2023-04-11T17:55:49.325Z"
   },
   {
    "duration": 12,
    "start_time": "2023-04-11T17:55:49.382Z"
   },
   {
    "duration": 32,
    "start_time": "2023-04-11T17:55:49.396Z"
   },
   {
    "duration": 17,
    "start_time": "2023-04-11T17:55:49.431Z"
   },
   {
    "duration": 14,
    "start_time": "2023-04-11T17:55:49.450Z"
   },
   {
    "duration": 45,
    "start_time": "2023-04-11T17:55:49.466Z"
   },
   {
    "duration": 22,
    "start_time": "2023-04-11T17:55:49.514Z"
   },
   {
    "duration": 19,
    "start_time": "2023-04-11T17:55:49.538Z"
   },
   {
    "duration": 38,
    "start_time": "2023-04-11T17:55:49.559Z"
   },
   {
    "duration": 39,
    "start_time": "2023-04-11T17:55:49.599Z"
   },
   {
    "duration": 39,
    "start_time": "2023-04-11T17:55:49.640Z"
   },
   {
    "duration": 21,
    "start_time": "2023-04-11T17:55:49.681Z"
   },
   {
    "duration": 20,
    "start_time": "2023-04-11T17:55:49.704Z"
   },
   {
    "duration": 47,
    "start_time": "2023-04-11T17:55:49.726Z"
   },
   {
    "duration": 34,
    "start_time": "2023-04-11T17:55:49.775Z"
   },
   {
    "duration": 30,
    "start_time": "2023-04-11T17:55:49.811Z"
   },
   {
    "duration": 7,
    "start_time": "2023-04-11T17:55:49.843Z"
   },
   {
    "duration": 49,
    "start_time": "2023-04-11T17:55:49.852Z"
   },
   {
    "duration": 19,
    "start_time": "2023-04-11T17:55:49.903Z"
   },
   {
    "duration": 203,
    "start_time": "2023-04-11T17:55:49.924Z"
   },
   {
    "duration": 49,
    "start_time": "2023-04-11T17:55:50.129Z"
   },
   {
    "duration": 27,
    "start_time": "2023-04-11T17:55:50.180Z"
   },
   {
    "duration": 24,
    "start_time": "2023-04-11T17:55:50.209Z"
   },
   {
    "duration": 194,
    "start_time": "2023-04-11T17:55:50.236Z"
   },
   {
    "duration": 19,
    "start_time": "2023-04-11T17:55:50.432Z"
   },
   {
    "duration": 52,
    "start_time": "2023-04-11T17:55:50.453Z"
   },
   {
    "duration": 54,
    "start_time": "2023-04-11T17:55:50.507Z"
   },
   {
    "duration": 155,
    "start_time": "2023-04-11T17:55:50.563Z"
   },
   {
    "duration": 32,
    "start_time": "2023-04-11T17:55:50.720Z"
   },
   {
    "duration": 45,
    "start_time": "2023-04-11T17:55:50.755Z"
   },
   {
    "duration": 25,
    "start_time": "2023-04-11T17:55:50.806Z"
   },
   {
    "duration": 41,
    "start_time": "2023-04-11T17:55:50.833Z"
   },
   {
    "duration": 28,
    "start_time": "2023-04-11T17:55:50.876Z"
   },
   {
    "duration": 43,
    "start_time": "2023-04-11T17:55:50.907Z"
   },
   {
    "duration": 1486,
    "start_time": "2023-04-11T17:55:50.952Z"
   },
   {
    "duration": 1389,
    "start_time": "2023-04-11T17:55:52.440Z"
   },
   {
    "duration": 1486,
    "start_time": "2023-04-11T17:55:53.832Z"
   },
   {
    "duration": 9,
    "start_time": "2023-04-12T03:42:38.572Z"
   },
   {
    "duration": 55,
    "start_time": "2023-04-12T03:42:52.616Z"
   },
   {
    "duration": 1288,
    "start_time": "2023-04-12T03:42:56.043Z"
   },
   {
    "duration": 4,
    "start_time": "2023-04-12T03:42:57.333Z"
   },
   {
    "duration": 1317,
    "start_time": "2023-04-12T03:42:57.339Z"
   },
   {
    "duration": 5,
    "start_time": "2023-04-12T03:43:16.806Z"
   },
   {
    "duration": 229,
    "start_time": "2023-04-12T03:43:17.805Z"
   },
   {
    "duration": 6,
    "start_time": "2023-04-12T03:43:26.086Z"
   },
   {
    "duration": 198,
    "start_time": "2023-04-12T03:43:27.614Z"
   },
   {
    "duration": 4,
    "start_time": "2023-04-12T03:44:07.148Z"
   },
   {
    "duration": 221,
    "start_time": "2023-04-12T03:44:07.627Z"
   },
   {
    "duration": 12,
    "start_time": "2023-04-12T03:47:08.124Z"
   },
   {
    "duration": 295,
    "start_time": "2023-04-12T03:47:08.732Z"
   },
   {
    "duration": 4,
    "start_time": "2023-04-12T03:47:24.477Z"
   },
   {
    "duration": 269,
    "start_time": "2023-04-12T03:47:26.182Z"
   },
   {
    "duration": 254,
    "start_time": "2023-04-12T03:47:49.729Z"
   },
   {
    "duration": 885,
    "start_time": "2023-04-12T03:49:36.852Z"
   },
   {
    "duration": 962,
    "start_time": "2023-04-12T03:49:39.284Z"
   },
   {
    "duration": 4,
    "start_time": "2023-04-12T03:57:43.142Z"
   },
   {
    "duration": 86,
    "start_time": "2023-04-12T03:58:41.510Z"
   },
   {
    "duration": 3,
    "start_time": "2023-04-12T03:59:25.331Z"
   },
   {
    "duration": 5,
    "start_time": "2023-04-12T03:59:26.512Z"
   },
   {
    "duration": 220,
    "start_time": "2023-04-12T03:59:27.213Z"
   },
   {
    "duration": 4,
    "start_time": "2023-04-12T03:59:33.045Z"
   },
   {
    "duration": 16,
    "start_time": "2023-04-12T03:59:37.714Z"
   },
   {
    "duration": 4,
    "start_time": "2023-04-12T03:59:44.209Z"
   },
   {
    "duration": 262,
    "start_time": "2023-04-12T04:01:38.321Z"
   },
   {
    "duration": 273,
    "start_time": "2023-04-12T04:01:40.628Z"
   },
   {
    "duration": 14,
    "start_time": "2023-04-12T04:01:43.603Z"
   },
   {
    "duration": 16,
    "start_time": "2023-04-12T04:01:44.722Z"
   },
   {
    "duration": 14,
    "start_time": "2023-04-12T04:01:45.475Z"
   },
   {
    "duration": 29,
    "start_time": "2023-04-12T04:01:46.302Z"
   },
   {
    "duration": 5,
    "start_time": "2023-04-12T04:01:47.643Z"
   },
   {
    "duration": 3,
    "start_time": "2023-04-12T04:01:49.572Z"
   },
   {
    "duration": 4,
    "start_time": "2023-04-12T04:01:50.163Z"
   },
   {
    "duration": 8,
    "start_time": "2023-04-12T04:01:52.217Z"
   },
   {
    "duration": 11,
    "start_time": "2023-04-12T04:02:48.517Z"
   },
   {
    "duration": 14,
    "start_time": "2023-04-12T04:02:49.771Z"
   },
   {
    "duration": 17,
    "start_time": "2023-04-12T04:03:17.290Z"
   },
   {
    "duration": 16,
    "start_time": "2023-04-12T04:03:17.868Z"
   },
   {
    "duration": 7,
    "start_time": "2023-04-12T04:04:04.827Z"
   },
   {
    "duration": 15,
    "start_time": "2023-04-12T04:04:05.449Z"
   },
   {
    "duration": 25,
    "start_time": "2023-04-12T04:04:13.506Z"
   },
   {
    "duration": 18,
    "start_time": "2023-04-12T04:04:14.132Z"
   },
   {
    "duration": 6,
    "start_time": "2023-04-12T04:10:15.339Z"
   },
   {
    "duration": 18,
    "start_time": "2023-04-12T04:10:16.326Z"
   },
   {
    "duration": 17,
    "start_time": "2023-04-12T04:10:17.050Z"
   },
   {
    "duration": 17,
    "start_time": "2023-04-12T04:10:17.649Z"
   },
   {
    "duration": 8,
    "start_time": "2023-04-12T11:58:33.859Z"
   },
   {
    "duration": 45,
    "start_time": "2023-04-12T11:59:40.122Z"
   },
   {
    "duration": 1226,
    "start_time": "2023-04-12T11:59:42.538Z"
   },
   {
    "duration": 4,
    "start_time": "2023-04-12T11:59:43.767Z"
   },
   {
    "duration": 26,
    "start_time": "2023-04-12T11:59:43.773Z"
   },
   {
    "duration": 2313,
    "start_time": "2023-04-12T11:59:44.123Z"
   },
   {
    "duration": 631,
    "start_time": "2023-04-12T12:06:42.130Z"
   },
   {
    "duration": 628,
    "start_time": "2023-04-12T12:09:09.033Z"
   },
   {
    "duration": 575,
    "start_time": "2023-04-12T12:10:04.111Z"
   },
   {
    "duration": 571,
    "start_time": "2023-04-12T12:10:45.220Z"
   },
   {
    "duration": 606,
    "start_time": "2023-04-12T12:10:57.347Z"
   },
   {
    "duration": 646,
    "start_time": "2023-04-12T12:13:13.160Z"
   },
   {
    "duration": 5,
    "start_time": "2023-04-12T12:16:38.720Z"
   },
   {
    "duration": 6,
    "start_time": "2023-04-12T12:20:16.738Z"
   },
   {
    "duration": 5,
    "start_time": "2023-04-12T12:21:38.492Z"
   },
   {
    "duration": 652,
    "start_time": "2023-04-12T12:21:55.092Z"
   },
   {
    "duration": 5,
    "start_time": "2023-04-12T12:21:59.263Z"
   },
   {
    "duration": 77,
    "start_time": "2023-04-12T12:21:59.831Z"
   },
   {
    "duration": 25,
    "start_time": "2023-04-12T12:22:28.912Z"
   },
   {
    "duration": 84,
    "start_time": "2023-04-12T12:22:57.360Z"
   },
   {
    "duration": 80,
    "start_time": "2023-04-12T12:27:19.325Z"
   },
   {
    "duration": 13,
    "start_time": "2023-04-12T12:33:22.903Z"
   },
   {
    "duration": 11,
    "start_time": "2023-04-12T12:33:50.542Z"
   },
   {
    "duration": 76,
    "start_time": "2023-04-12T12:34:17.614Z"
   },
   {
    "duration": 12,
    "start_time": "2023-04-12T12:34:20.240Z"
   },
   {
    "duration": 65,
    "start_time": "2023-04-12T12:36:47.952Z"
   },
   {
    "duration": 20,
    "start_time": "2023-04-12T12:36:57.263Z"
   },
   {
    "duration": 272,
    "start_time": "2023-04-12T12:37:44.552Z"
   },
   {
    "duration": 188,
    "start_time": "2023-04-12T12:39:44.836Z"
   },
   {
    "duration": 134,
    "start_time": "2023-04-12T12:42:54.691Z"
   },
   {
    "duration": 11,
    "start_time": "2023-04-12T12:45:06.570Z"
   },
   {
    "duration": 4,
    "start_time": "2023-04-12T12:45:10.547Z"
   },
   {
    "duration": 14,
    "start_time": "2023-04-12T12:45:13.914Z"
   },
   {
    "duration": 3,
    "start_time": "2023-04-12T12:45:19.765Z"
   },
   {
    "duration": 4,
    "start_time": "2023-04-12T12:45:22.336Z"
   },
   {
    "duration": 4,
    "start_time": "2023-04-12T12:45:22.744Z"
   },
   {
    "duration": 5,
    "start_time": "2023-04-12T12:45:23.119Z"
   },
   {
    "duration": 21,
    "start_time": "2023-04-12T12:45:24.799Z"
   },
   {
    "duration": 4,
    "start_time": "2023-04-12T12:45:30.281Z"
   },
   {
    "duration": 6,
    "start_time": "2023-04-12T12:45:31.169Z"
   },
   {
    "duration": 3,
    "start_time": "2023-04-12T12:45:35.019Z"
   },
   {
    "duration": 3,
    "start_time": "2023-04-12T12:45:35.419Z"
   },
   {
    "duration": 5,
    "start_time": "2023-04-12T12:45:35.819Z"
   },
   {
    "duration": 4249,
    "start_time": "2023-04-12T12:45:36.384Z"
   },
   {
    "duration": 6,
    "start_time": "2023-04-12T12:46:53.366Z"
   },
   {
    "duration": 3,
    "start_time": "2023-04-12T12:47:27.986Z"
   },
   {
    "duration": 4,
    "start_time": "2023-04-12T12:47:31.179Z"
   },
   {
    "duration": 4649,
    "start_time": "2023-04-12T12:47:32.147Z"
   },
   {
    "duration": 3,
    "start_time": "2023-04-12T12:48:08.364Z"
   },
   {
    "duration": 1423,
    "start_time": "2023-04-12T12:49:01.875Z"
   },
   {
    "duration": 3,
    "start_time": "2023-04-12T12:49:03.300Z"
   },
   {
    "duration": 23,
    "start_time": "2023-04-12T12:49:03.304Z"
   },
   {
    "duration": 1568,
    "start_time": "2023-04-12T12:49:03.329Z"
   },
   {
    "duration": 20,
    "start_time": "2023-04-12T12:49:04.900Z"
   },
   {
    "duration": 104,
    "start_time": "2023-04-12T12:49:04.922Z"
   },
   {
    "duration": 290,
    "start_time": "2023-04-12T12:49:05.028Z"
   },
   {
    "duration": 5,
    "start_time": "2023-04-12T12:49:05.320Z"
   },
   {
    "duration": 123,
    "start_time": "2023-04-12T12:49:05.327Z"
   },
   {
    "duration": 8,
    "start_time": "2023-04-12T12:49:05.452Z"
   },
   {
    "duration": 24,
    "start_time": "2023-04-12T12:49:05.462Z"
   },
   {
    "duration": 18,
    "start_time": "2023-04-12T12:49:05.488Z"
   },
   {
    "duration": 4399,
    "start_time": "2023-04-12T12:49:05.508Z"
   },
   {
    "duration": 1509,
    "start_time": "2023-04-12T15:20:03.368Z"
   },
   {
    "duration": 3,
    "start_time": "2023-04-12T15:20:04.879Z"
   },
   {
    "duration": 19,
    "start_time": "2023-04-12T15:20:04.884Z"
   },
   {
    "duration": 2698,
    "start_time": "2023-04-12T15:20:04.906Z"
   },
   {
    "duration": 7,
    "start_time": "2023-04-12T15:20:07.607Z"
   },
   {
    "duration": 134,
    "start_time": "2023-04-12T15:20:07.616Z"
   },
   {
    "duration": 396,
    "start_time": "2023-04-12T15:20:07.753Z"
   },
   {
    "duration": 90,
    "start_time": "2023-04-12T15:20:08.151Z"
   },
   {
    "duration": 123,
    "start_time": "2023-04-12T15:20:08.244Z"
   },
   {
    "duration": 24,
    "start_time": "2023-04-12T15:20:08.370Z"
   },
   {
    "duration": 24,
    "start_time": "2023-04-12T15:20:08.396Z"
   },
   {
    "duration": 24,
    "start_time": "2023-04-12T15:20:08.422Z"
   },
   {
    "duration": 4519,
    "start_time": "2023-04-12T15:20:08.448Z"
   },
   {
    "duration": 5,
    "start_time": "2023-04-12T16:34:58.558Z"
   },
   {
    "duration": 5,
    "start_time": "2023-04-12T16:56:55.948Z"
   },
   {
    "duration": 4113,
    "start_time": "2023-04-12T16:56:59.405Z"
   },
   {
    "duration": 4088,
    "start_time": "2023-04-12T17:00:10.306Z"
   },
   {
    "duration": 6,
    "start_time": "2023-04-12T17:25:24.432Z"
   },
   {
    "duration": 3997,
    "start_time": "2023-04-12T17:25:26.766Z"
   },
   {
    "duration": 1049,
    "start_time": "2023-04-12T17:28:23.397Z"
   },
   {
    "duration": 3,
    "start_time": "2023-04-12T17:28:24.448Z"
   },
   {
    "duration": 8,
    "start_time": "2023-04-12T17:28:24.452Z"
   },
   {
    "duration": 947,
    "start_time": "2023-04-12T17:28:24.463Z"
   },
   {
    "duration": 5,
    "start_time": "2023-04-12T17:28:25.412Z"
   },
   {
    "duration": 121,
    "start_time": "2023-04-12T17:28:25.418Z"
   },
   {
    "duration": 409,
    "start_time": "2023-04-12T17:28:25.541Z"
   },
   {
    "duration": 90,
    "start_time": "2023-04-12T17:28:25.952Z"
   },
   {
    "duration": 39,
    "start_time": "2023-04-12T17:28:26.045Z"
   },
   {
    "duration": 13,
    "start_time": "2023-04-12T17:28:26.086Z"
   },
   {
    "duration": 8,
    "start_time": "2023-04-12T17:28:26.101Z"
   },
   {
    "duration": 9,
    "start_time": "2023-04-12T17:28:26.111Z"
   },
   {
    "duration": 4196,
    "start_time": "2023-04-12T17:28:26.122Z"
   },
   {
    "duration": 1087,
    "start_time": "2023-04-13T03:34:40.995Z"
   },
   {
    "duration": 2,
    "start_time": "2023-04-13T03:34:42.084Z"
   },
   {
    "duration": 4,
    "start_time": "2023-04-13T03:34:42.586Z"
   },
   {
    "duration": 2073,
    "start_time": "2023-04-13T03:34:46.452Z"
   },
   {
    "duration": 4,
    "start_time": "2023-04-13T03:36:32.890Z"
   },
   {
    "duration": 4,
    "start_time": "2023-04-13T03:38:23.384Z"
   },
   {
    "duration": 606,
    "start_time": "2023-04-13T03:38:24.660Z"
   },
   {
    "duration": 4,
    "start_time": "2023-04-13T03:39:33.769Z"
   },
   {
    "duration": 936,
    "start_time": "2023-04-13T03:39:34.946Z"
   },
   {
    "duration": 4,
    "start_time": "2023-04-13T03:40:03.341Z"
   },
   {
    "duration": 557,
    "start_time": "2023-04-13T03:40:04.033Z"
   },
   {
    "duration": 4,
    "start_time": "2023-04-13T03:40:37.463Z"
   },
   {
    "duration": 544,
    "start_time": "2023-04-13T03:40:39.321Z"
   },
   {
    "duration": 594,
    "start_time": "2023-04-13T03:40:55.682Z"
   },
   {
    "duration": 5,
    "start_time": "2023-04-13T03:45:18.549Z"
   },
   {
    "duration": 2126,
    "start_time": "2023-04-13T03:45:20.679Z"
   },
   {
    "duration": 4,
    "start_time": "2023-04-13T03:45:34.701Z"
   },
   {
    "duration": 2093,
    "start_time": "2023-04-13T03:45:36.341Z"
   },
   {
    "duration": 101,
    "start_time": "2023-04-13T03:46:20.676Z"
   },
   {
    "duration": 4,
    "start_time": "2023-04-13T03:46:26.837Z"
   },
   {
    "duration": 2331,
    "start_time": "2023-04-13T03:46:28.120Z"
   },
   {
    "duration": 4,
    "start_time": "2023-04-13T03:49:58.372Z"
   },
   {
    "duration": 625,
    "start_time": "2023-04-13T03:49:59.317Z"
   },
   {
    "duration": 128,
    "start_time": "2023-04-13T04:18:39.655Z"
   }
  ],
  "kernelspec": {
   "display_name": "Python 3 (ipykernel)",
   "language": "python",
   "name": "python3"
  },
  "language_info": {
   "codemirror_mode": {
    "name": "ipython",
    "version": 3
   },
   "file_extension": ".py",
   "mimetype": "text/x-python",
   "name": "python",
   "nbconvert_exporter": "python",
   "pygments_lexer": "ipython3",
   "version": "3.10.9"
  },
  "toc": {
   "base_numbering": 1,
   "nav_menu": {},
   "number_sections": true,
   "sideBar": true,
   "skip_h1_title": true,
   "title_cell": "Table of Contents",
   "title_sidebar": "Contents",
   "toc_cell": false,
   "toc_position": {},
   "toc_section_display": true,
   "toc_window_display": true
  }
 },
 "nbformat": 4,
 "nbformat_minor": 2
}
